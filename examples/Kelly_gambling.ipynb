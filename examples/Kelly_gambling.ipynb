{
 "cells": [
  {
   "cell_type": "code",
   "execution_count": 1,
   "metadata": {},
   "outputs": [],
   "source": [
    "# import os\n",
    "# os.environ['CUDA_VISIBLE_DEVICES']='1'"
   ]
  },
  {
   "cell_type": "code",
   "execution_count": 2,
   "metadata": {},
   "outputs": [],
   "source": [
    "import torch\n",
    "import numpy as np\n",
    "import cvxpy as cp\n",
    "from osmm import OSMM\n",
    "\n",
    "import matplotlib.pyplot as plt\n",
    "import matplotlib.gridspec as gridspec"
   ]
  },
  {
   "cell_type": "code",
   "execution_count": 3,
   "metadata": {},
   "outputs": [
    {
     "name": "stdout",
     "output_type": "stream",
     "text": [
      "device = cpu\n"
     ]
    }
   ],
   "source": [
    "CPU = torch.device('cpu')\n",
    "if torch.cuda.is_available():\n",
    "    torch.set_default_tensor_type(torch.cuda.FloatTensor)\n",
    "    device = torch.device('cuda')\n",
    "else:\n",
    "    torch.set_default_tensor_type(torch.FloatTensor)\n",
    "    device = CPU\n",
    "print(\"device =\", device)"
   ]
  },
  {
   "cell_type": "markdown",
   "metadata": {},
   "source": [
    "## generate data"
   ]
  },
  {
   "cell_type": "code",
   "execution_count": 4,
   "metadata": {},
   "outputs": [],
   "source": [
    "N = 1000000\n",
    "n = 200"
   ]
  },
  {
   "cell_type": "code",
   "execution_count": 5,
   "metadata": {},
   "outputs": [],
   "source": [
    "np.random.seed(0)\n",
    "pi = np.random.uniform(0, 1, N)\n",
    "pi = pi / np.sum(pi)\n",
    "\n",
    "mean_returns = np.random.uniform(0.9, 1.1, n)\n",
    "\n",
    "returns_tmp = np.exp(np.random.randn(n, N))\n",
    "mean_tmp = np.sum(returns_tmp * pi, axis=1)\n",
    "returns = (returns_tmp.T / mean_tmp * mean_returns).T\n",
    "\n",
    "W = np.zeros((n + 1, N))\n",
    "W[0:n, :] = returns\n",
    "W[n, :] = pi"
   ]
  },
  {
   "cell_type": "markdown",
   "metadata": {},
   "source": [
    "## define g and f"
   ]
  },
  {
   "cell_type": "code",
   "execution_count": 6,
   "metadata": {},
   "outputs": [],
   "source": [
    "def my_g_cvxpy():\n",
    "    x_var = cp.Variable(n, nonneg=True)\n",
    "    g = 0\n",
    "    constr = [cp.sum(x_var) == 1]\n",
    "    return x_var, g, constr"
   ]
  },
  {
   "cell_type": "code",
   "execution_count": 7,
   "metadata": {},
   "outputs": [],
   "source": [
    "def my_f_torch(b_torch, W_torch):\n",
    "    r_torch = W_torch[0:n, :]\n",
    "    pi_torch = W_torch[n, :]\n",
    "    objf = -torch.sum(torch.log(torch.matmul(r_torch.T, b_torch)) * pi_torch)\n",
    "    return objf"
   ]
  },
  {
   "cell_type": "markdown",
   "metadata": {},
   "source": [
    "## consturct osmm object and pass in data"
   ]
  },
  {
   "cell_type": "code",
   "execution_count": 8,
   "metadata": {},
   "outputs": [],
   "source": [
    "osmm_prob = OSMM(my_f_torch, my_g_cvxpy)\n",
    "osmm_prob.f_torch.W = W"
   ]
  },
  {
   "cell_type": "markdown",
   "metadata": {},
   "source": [
    "## solve"
   ]
  },
  {
   "cell_type": "code",
   "execution_count": 9,
   "metadata": {},
   "outputs": [
    {
     "name": "stdout",
     "output_type": "stream",
     "text": [
      "iter = 10, objf = -5.715e-02, lower bound = -5.752e-02, RMS residual = 7.865e-04, ||G||_F = 7.457e+00\n",
      "      Terminated. Num iterations = 12, objf = -5.716e-02, lower bound = -5.752e-02, RMS residual = 4.782e-04.\n",
      "      Time elapsed (secs): 19.391256.\n",
      "\n"
     ]
    },
    {
     "data": {
      "text/plain": [
       "-0.05715961754322052"
      ]
     },
     "execution_count": 9,
     "metadata": {},
     "output_type": "execute_result"
    }
   ],
   "source": [
    "init_val = np.ones(n) / n\n",
    "osmm_prob.solve(init_val, verbose=True, \n",
    "#                 use_termination_criteria=False\n",
    "               )"
   ]
  },
  {
   "cell_type": "markdown",
   "metadata": {},
   "source": [
    "## plot result"
   ]
  },
  {
   "cell_type": "code",
   "execution_count": 10,
   "metadata": {},
   "outputs": [],
   "source": [
    "total_iters = osmm_prob.method_results[\"total_iters\"]\n",
    "iters = np.array([i for i in range(0, total_iters + 1)])"
   ]
  },
  {
   "cell_type": "code",
   "execution_count": 11,
   "metadata": {},
   "outputs": [
    {
     "data": {
      "text/plain": [
       "<matplotlib.legend.Legend at 0x7ff5a8d20190>"
      ]
     },
     "execution_count": 11,
     "metadata": {},
     "output_type": "execute_result"
    },
    {
     "data": {
      "image/png": "[encoded data removed]",
      "text/plain": [
       "<Figure size 1080x360 with 2 Axes>"
      ]
     },
     "metadata": {
      "needs_background": "light"
     },
     "output_type": "display_data"
    }
   ],
   "source": [
    "fig = plt.figure(tight_layout=False, figsize=(15, 5))\n",
    "gs = gridspec.GridSpec(1, 2)\n",
    "\n",
    "plot1 = fig.add_subplot(gs[0, 0])\n",
    "plot1.plot(iters, osmm_prob.method_results[\"objf_iters\"][0:total_iters + 1], label=\"Objective value\")\n",
    "lower_bound_idxs = [i for i in range(0, total_iters + 1, 10)] + [total_iters]\n",
    "plot1.plot(iters[lower_bound_idxs], osmm_prob.method_results[\"lower_bound_iters\"][lower_bound_idxs], \n",
    "           '--*', label=\"Lower bound\")\n",
    "\n",
    "plot1.set_xlabel(\"Iterations\")\n",
    "plot1.legend()\n",
    "\n",
    "#=========================================================================================================\n",
    "plot2 = fig.add_subplot(gs[0, 1])\n",
    "start_idx = 1\n",
    "rms_res_running_min = np.array(osmm_prob.method_results[\"rms_res_iters\"][0:total_iters + 1])\n",
    "for i in range(start_idx, total_iters + 1):\n",
    "    rms_res_running_min[i] = np.min(osmm_prob.method_results[\"rms_res_iters\"][start_idx:i + 1])\n",
    "\n",
    "plot2.plot(iters[start_idx::], rms_res_running_min[start_idx::], label=\"RMS Residual\", color='#2ca02c')\n",
    "\n",
    "plot2.set_xlabel(\"Iterations\")\n",
    "plot2.set_yscale(\"log\")\n",
    "plot2.legend()"
   ]
  },
  {
   "cell_type": "code",
   "execution_count": 12,
   "metadata": {},
   "outputs": [
    {
     "name": "stderr",
     "output_type": "stream",
     "text": [
      "/Users/xinyueshen/anaconda3/lib/python3.7/site-packages/ipykernel_launcher.py:5: UserWarning: In Matplotlib 3.3 individual lines on a stem plot will be added as a LineCollection instead of individual lines. This significantly improves the performance of a stem plot. To remove this warning and switch to the new behaviour, set the \"use_line_collection\" keyword argument to True.\n",
      "  \"\"\"\n"
     ]
    },
    {
     "data": {
      "text/plain": [
       "Text(0.5, 0, 'Log Return')"
      ]
     },
     "execution_count": 12,
     "metadata": {},
     "output_type": "execute_result"
    },
    {
     "data": {
      "image/png": "[encoded data removed]",
      "text/plain": [
       "<Figure size 864x432 with 2 Axes>"
      ]
     },
     "metadata": {
      "needs_background": "light"
     },
     "output_type": "display_data"
    }
   ],
   "source": [
    "fig = plt.figure(tight_layout=False, figsize=(12, 6))\n",
    "gs = gridspec.GridSpec(1, 2)\n",
    "\n",
    "plot1 = fig.add_subplot(gs[0, 0])\n",
    "plot1.stem([i for i in range(n)], osmm_prob.method_results[\"soln\"], markerfmt=' ')\n",
    "plot1.set_ylabel(\"Investment\")\n",
    "plot1.set_xlabel(\"Bet Index\")\n",
    "plot1.set_yscale(\"log\")\n",
    "\n",
    "payoff_outcomes = np.log(W[0:n, :].T.dot(osmm_prob.method_results[\"soln\"]))\n",
    "payoff_mean = np.sum(payoff_outcomes * W[n, :])\n",
    "plot2 = fig.add_subplot(gs[0, 1])\n",
    "plot2.hist(payoff_outcomes, bins=40)\n",
    "plot2.set_yscale(\"log\")\n",
    "plot2.axvline(payoff_mean, color='k', linestyle='dashed')\n",
    "plot2.text(payoff_mean, int(N * 0.1), 'Mean: {:.2f}'.format(payoff_mean))\n",
    "plot2.set_ylabel(\"Number of Samples\")\n",
    "plot2.set_xlabel(\"Log Return\")"
   ]
  },
  {
   "cell_type": "code",
   "execution_count": null,
   "metadata": {},
   "outputs": [],
   "source": []
  }
 ],
 "metadata": {
  "kernelspec": {
   "display_name": "Python 3",
   "language": "python",
   "name": "python3"
  },
  "language_info": {
   "codemirror_mode": {
    "name": "ipython",
    "version": 3
   },
   "file_extension": ".py",
   "mimetype": "text/x-python",
   "name": "python",
   "nbconvert_exporter": "python",
   "pygments_lexer": "ipython3",
   "version": "3.7.6"
  }
 },
 "nbformat": 4,
 "nbformat_minor": 4
}
