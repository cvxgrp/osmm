{
 "cells": [
  {
   "cell_type": "code",
   "execution_count": 1,
   "metadata": {},
   "outputs": [
    {
     "name": "stdout",
     "output_type": "stream",
     "text": [
      "device = cpu\n"
     ]
    }
   ],
   "source": [
    "dataset = \"exp_density\"\n",
    "import sys; sys.path.insert(0, '..')\n",
    "from exp_density_polynomial import *\n",
    "from osmm import OSMM\n",
    "from osmm import AlgMode\n",
    "import pickle\n",
    "import datetime"
   ]
  },
  {
   "cell_type": "code",
   "execution_count": 2,
   "metadata": {},
   "outputs": [],
   "source": [
    "num_trials = 1\n",
    "max_num_rounds = 100\n",
    "compare_with_cvxpy = True\n",
    "compare_with_mosek = False"
   ]
  },
  {
   "cell_type": "code",
   "execution_count": 3,
   "metadata": {},
   "outputs": [],
   "source": [
    "\"\"\"\n",
    "Structure of the alg_props dictionary is:\n",
    "  <algorithm friendly name>: [<algorithm index>,\n",
    "                              <number of rounds to run algorthm for (deprecated)>,\n",
    "                              <algorithm update mode>]\n",
    "\"\"\"\n",
    "alg_props = {\n",
    "        \"r=20, M=20\": [0, -1, AlgMode.LowRankQNBundle, 20, 20],\n",
    "}\n",
    "    \n",
    "num_algs = len(alg_props)\n",
    "solver = \"MOSEK\""
   ]
  },
  {
   "cell_type": "code",
   "execution_count": 4,
   "metadata": {},
   "outputs": [],
   "source": [
    "# Define structs:\n",
    "objfs = np.zeros((num_trials, num_algs, max_num_rounds))\n",
    "objfs_validation = np.zeros((num_trials, num_algs, max_num_rounds))\n",
    "runtimes = np.zeros((num_trials, num_algs, max_num_rounds))\n",
    "iters_takens = np.zeros((num_trials, num_algs))\n",
    "damping_facs = np.ones((num_trials, num_algs, max_num_rounds))\n",
    "mus = np.ones((num_trials, num_algs, max_num_rounds))\n",
    "ts = np.ones((num_trials, num_algs, max_num_rounds))\n",
    "Xs = np.zeros((n, num_trials, num_algs, max_num_rounds))\n",
    "lower_bounds = np.ones((num_trials, num_algs, max_num_rounds)) * (-np.inf)\n",
    "best_xs = np.zeros((n, num_trials, num_algs))\n",
    "v_norms = np.zeros((num_trials, num_algs, max_num_rounds))\n",
    "num_f_evas_line_searchs = np.zeros((num_trials, num_algs, max_num_rounds))\n",
    "opt_res_norms = np.zeros((num_trials, num_algs, max_num_rounds))\n",
    "q_norms = np.zeros((num_trials, num_algs, max_num_rounds))\n",
    "f_grad_norms = np.zeros((num_trials, num_algs, max_num_rounds))\n",
    "time_cost_details = np.zeros((6, num_trials, num_algs, max_num_rounds))\n",
    "\n",
    "objfs_opt_cvxpy = np.zeros((num_trials,num_algs))\n",
    "objfs_opt_mosek = np.zeros((num_trials,num_algs))\n",
    "baseline_total_time_cost = np.zeros(num_trials)\n",
    "baseline_mosek_solve_time = np.zeros(num_trials)"
   ]
  },
  {
   "cell_type": "code",
   "execution_count": 6,
   "metadata": {},
   "outputs": [
    {
     "name": "stdout",
     "output_type": "stream",
     "text": [
      "Trial 0/0 (dataset = exp_density):\n",
      "N_0 =  10000 N= 9749\n",
      "N_0 =  10000 N= 9763\n",
      "End generate data\n",
      "Start to solve baseline problem by MOSEK\n",
      "  MOSEK + CVXPY time cost  1.0339698791503906\n",
      "  MOSEK solver time cost 0.7521641254425049\n",
      "  Setup time cost None\n",
      "  Objective value 0.5250101543829169\n",
      "  Solver status  optimal.\n",
      "\n",
      "opt objf value 0.5250101543829169 CVXPY baseline total time 1.035161018371582 CVXPY baseline solve time 0.7521641254425049\n",
      "    r=20, M=20:\n",
      "Hutchinson #iters 27 rel. incr. 0.0007845546810127498 est. tr. 1.6678235636920564\n",
      "lam_0 0.1191302545494326 Hutchinson time cost,  0.025369882583618164\n"
     ]
    },
    {
     "name": "stderr",
     "output_type": "stream",
     "text": [
      "/Users/xinyueshen/anaconda3/lib/python3.7/site-packages/cvxpy/reductions/solvers/solving_chain.py:163: UserWarning: You are solving a parameterized problem that is not DPP. Because the problem is not DPP, subsequent solves will not be faster than the first one. For more information, see the documentation on Discplined Parametrized Programming, at\n",
      "\thttps://www.cvxpy.org/tutorial/advanced/index.html#disciplined-parametrized-programming\n",
      "  warnings.warn(dpp_error_msg)\n"
     ]
    },
    {
     "name": "stdout",
     "output_type": "stream",
     "text": [
      "iter= 10 objf_k+1= 0.5274008027596836 L_k+1= 0.5147443485543495 lam_k+1= 0.0015668985834259488 tk= 1.0 mu_k+1 0.5277319168000003 ||G_k+1||_F= 0.9117857054625559 tau_k+1 0.002969118473878038\n",
      "iter= 20 objf_k+1= 0.5250100296204812 L_k+1= 0.5250059988976286 lam_k+1= 0.0005263886120411513 tk= 0.125 mu_k+1 0.1473063013603451 ||G_k+1||_F= 1.0002800235280516 tau_k+1 0.0035734290195331407\n",
      "iter= 30 objf_k+1= 0.5250097388034726 L_k+1= 0.5250100140005686 lam_k+1= 0.0009599478037538029 tk= 0.125 mu_k+1 0.2778724425299009 ||G_k+1||_F= 0.9835129576074524 tau_k+1 0.0034546347777919943\n",
      "iter= 40 objf_k+1= 0.5250104083990588 L_k+1= 0.5250102878735212 lam_k+1= 0.0014188842214477122 tk= 0.0009765625 mu_k+1 0.3812123253852569 ||G_k+1||_F= 1.0208666781661575 tau_k+1 0.0037220313378214464\n",
      "iter= 50 objf_k+1= 0.5250096715970398 L_k+1= 0.5250102878735212 lam_k+1= 0.0022511200083407384 tk= 0.03125 mu_k+1 0.5229839839551463 ||G_k+1||_F= 1.0978276004483363 tau_k+1 0.004304376572521971\n",
      "iter= 60 objf_k+1= 0.5250102351415625 L_k+1= 0.5250102878735212 lam_k+1= 0.0051172599348568975 tk= 0.0009765625 mu_k+1 0.9865351019176154 ||G_k+1||_F= 1.2051510495889985 tau_k+1 0.005187103758305231\n",
      "iter= 70 objf_k+1= 0.5250098884671837 L_k+1= 0.5250102878735212 lam_k+1= 0.011582707346246304 tk= 0.0078125 mu_k+1 1.8609585325256746 ||G_k+1||_F= 1.32012698731715 tau_k+1 0.006224054509439481\n",
      "iter= 80 objf_k+1= 0.5250098136906167 L_k+1= 0.5250102878735212 lam_k+1= 0.01963993651897305 tk= 1.0 mu_k+1 3.5104342998525326 ||G_k+1||_F= 1.2516088659128548 tau_k+1 0.005594731261541652\n",
      "iter= 90 objf_k+1= 0.5250099585376262 L_k+1= 0.5250102878735212 lam_k+1= 0.050940937262929024 tk= 0.015625 mu_k+1 9.105162496918936 ||G_k+1||_F= 1.2516088659128548 tau_k+1 0.005594731261541652\n",
      "      Time elapsed (secs): 3.422422.\n",
      "\n",
      "\n"
     ]
    }
   ],
   "source": [
    "for trial_idx in range(num_trials):\n",
    "    print(\"Trial %d/%d (dataset = %s):\" % (trial_idx, num_trials - 1, dataset))\n",
    "    W = generate_random_data()\n",
    "    W_validation = generate_random_data()\n",
    "    print(\"End generate data\")\n",
    "    if compare_with_mosek:\n",
    "        t0 = time.time()\n",
    "        x_opt_mosek, objf_opt = get_baseline_soln_mosek(W)\n",
    "        baseline_mosek_solve_time[trial_idx] = time.time() - t0\n",
    "        baseline_total_time_cost[trial_idx] = baseline_mosek_solve_time[trial_idx]\n",
    "        print(\"opt objf value\", objf_opt, \"mosek total time\", baseline_mosek_solve_time[trial_idx])\n",
    "        objfs_opt_mosek[trial_idx, :] = objf_opt * np.ones(num_algs)\n",
    "    else:\n",
    "        objf_opt = None\n",
    "\n",
    "    if compare_with_cvxpy:\n",
    "        t0 = time.time()\n",
    "        x_opt, objf_opt, baseline_mosek_solve_time[trial_idx] = get_baseline_soln_cvxpy(W, compare_with_all=False)\n",
    "        baseline_total_time_cost[trial_idx] = time.time() - t0\n",
    "        print(\"opt objf value\", objf_opt, \"CVXPY baseline total time\", baseline_total_time_cost[trial_idx], \n",
    "              \"CVXPY baseline solve time\", baseline_mosek_solve_time[trial_idx])\n",
    "        objfs_opt_cvxpy[trial_idx, :] = objf_opt * np.ones(num_algs)\n",
    "        \n",
    "    osmm_prob = OSMM(my_objf_torch, get_cvxpy_description, get_initial_val, W, W_validation, save_timing=True, store_x_all_iters=True)\n",
    "\n",
    "    for alg_name in alg_props:\n",
    "        print(\"    \" + alg_name + \":\")\n",
    "        alg_idx = alg_props[alg_name][0]\n",
    "        alg_mode = alg_props[alg_name][2]\n",
    "        H_rank = alg_props[alg_name][3]\n",
    "        M = alg_props[alg_name][4]\n",
    "        \n",
    "        osmm_prob.solve(max_num_rounds, alg_mode, r=H_rank, M=M, solver=solver, stop_early=False)\n",
    "\n",
    "        Xs[:, trial_idx, alg_idx, :] = osmm_prob.method_results[\"X_iters\"]\n",
    "        objfs[trial_idx, alg_idx, :] = osmm_prob.method_results[\"objf_iters\"]\n",
    "        objfs_validation[trial_idx, alg_idx, :] = osmm_prob.method_results[\"objf_validation_iters\"]\n",
    "        damping_facs[trial_idx, alg_idx, :] = osmm_prob.method_results[\"lambd_iters\"]\n",
    "        mus[trial_idx, alg_idx, :] = osmm_prob.method_results[\"mu_iters\"]\n",
    "        ts[trial_idx, alg_idx, :] = osmm_prob.method_results[\"t_iters\"]\n",
    "        lower_bounds[trial_idx, alg_idx, :] = osmm_prob.method_results[\"lower_bound_iters\"]\n",
    "        runtimes[trial_idx, alg_idx, :] = osmm_prob.method_results[\"runtime_iters\"]\n",
    "        best_xs[:, trial_idx, alg_idx] = osmm_prob.method_results[\"x_best\"]\n",
    "        v_norms[trial_idx, alg_idx, :] = osmm_prob.method_results[\"v_norm_iters\"]\n",
    "        num_f_evas_line_searchs[trial_idx, alg_idx, :] = osmm_prob.method_results[\"num_f_evas_line_search_iters\"]\n",
    "        opt_res_norms[trial_idx, alg_idx, :] = osmm_prob.method_results[\"opt_res_iters\"]\n",
    "        f_grad_norms[trial_idx, alg_idx, :] = osmm_prob.method_results[\"f_grad_norm_iters\"]\n",
    "        q_norms[trial_idx, alg_idx, :] = osmm_prob.method_results[\"q_norm_iters\"]\n",
    "        time_cost_details[:, trial_idx, alg_idx, :] = osmm_prob.method_results[\"time_cost_detail_iters\"]\n",
    "        iters_taken = osmm_prob.method_results[\"iters_taken\"]\n",
    "        print(\"\")"
   ]
  },
  {
   "cell_type": "code",
   "execution_count": 7,
   "metadata": {},
   "outputs": [
    {
     "name": "stdout",
     "output_type": "stream",
     "text": [
      "W shape =  (15, 9749)\n",
      "log 10 N, n =  3.988960070390338 14\n"
     ]
    }
   ],
   "source": [
    "print(\"W shape = \", W.shape)\n",
    "_, N = W.shape\n",
    "print(\"log 10 N, n = \", np.log10(N), n)"
   ]
  },
  {
   "cell_type": "code",
   "execution_count": 8,
   "metadata": {},
   "outputs": [
    {
     "name": "stdout",
     "output_type": "stream",
     "text": [
      "[[0.52501015]]\n"
     ]
    }
   ],
   "source": [
    "if not compare_with_cvxpy and not compare_with_mosek:\n",
    "    baseline_objf_opt_s = None\n",
    "elif not compare_with_mosek:\n",
    "    baseline_objf_opt_s = objfs_opt_cvxpy\n",
    "else:\n",
    "    baseline_objf_opt_s = objfs_opt_mosek\n",
    "print(baseline_objf_opt_s)"
   ]
  },
  {
   "cell_type": "code",
   "execution_count": 9,
   "metadata": {},
   "outputs": [],
   "source": [
    "stuff = {}\n",
    "stuff[\"objfs\"] = objfs\n",
    "stuff[\"objfs_validation\"] = objfs_validation\n",
    "stuff[\"lower_bounds\"] = lower_bounds\n",
    "stuff[\"runtimes\"] = runtimes\n",
    "stuff[\"opt_res_norms\"] = opt_res_norms\n",
    "stuff[\"f_grad_norms\"] = f_grad_norms\n",
    "stuff[\"q_norms\"] = q_norms\n",
    "stuff[\"damping_facs\"] = damping_facs\n",
    "stuff[\"ts\"] = ts\n",
    "stuff[\"Xs\"] = Xs\n",
    "stuff[\"best_xs\"] = best_xs\n",
    "stuff[\"v_norms\"] = v_norms\n",
    "stuff[\"num_f_evas_line_searchs\"] = num_f_evas_line_searchs\n",
    "stuff[\"iters_taken\"] = iters_taken\n",
    "\n",
    "stuff[\"time_cost_details\"] = time_cost_details\n",
    "\n",
    "stuff[\"alg_props\"] = alg_props\n",
    "stuff[\"baseline_total_time_cost\"] = baseline_total_time_cost\n",
    "stuff[\"baseline_mosek_solve_time\"] = baseline_mosek_solve_time\n",
    "stuff[\"baseline_objf_opt_s\"] = baseline_objf_opt_s\n",
    "now = datetime.datetime.now()\n",
    "mmddyyhhmm = (\"%d_%d_%d_%d_%d\" % (now.month, now.day, now.year, now.hour, now.minute))\n",
    "part_of_out_fn = dataset + \"_pnt1_\" + mmddyyhhmm"
   ]
  },
  {
   "cell_type": "code",
   "execution_count": 10,
   "metadata": {},
   "outputs": [],
   "source": [
    "# pickle.dump(stuff, open(\"data_%s.pkl\" % (part_of_out_fn), \"wb\"))"
   ]
  },
  {
   "cell_type": "code",
   "execution_count": null,
   "metadata": {},
   "outputs": [],
   "source": []
  }
 ],
 "metadata": {
  "kernelspec": {
   "display_name": "Python 3",
   "language": "python",
   "name": "python3"
  },
  "language_info": {
   "codemirror_mode": {
    "name": "ipython",
    "version": 3
   },
   "file_extension": ".py",
   "mimetype": "text/x-python",
   "name": "python",
   "nbconvert_exporter": "python",
   "pygments_lexer": "ipython3",
   "version": "3.7.6"
  }
 },
 "nbformat": 4,
 "nbformat_minor": 4
}
