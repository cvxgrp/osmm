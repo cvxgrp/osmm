{
 "cells": [
  {
   "cell_type": "code",
   "execution_count": 1,
   "metadata": {},
   "outputs": [],
   "source": [
    "import matplotlib\n",
    "import matplotlib.pyplot as plt\n",
    "import matplotlib.patches as mpatches\n",
    "# matplotlib.rcParams['pdf.fonttype'] = 42\n",
    "# matplotlib.rcParams['ps.fonttype'] = 42\n",
    "from matplotlib.ticker import NullFormatter\n",
    "%matplotlib inline\n",
    "# import seaborn as sns\n",
    "# sns.set(style=\"ticks\")\n",
    "\n",
    "import numpy as np"
   ]
  },
  {
   "cell_type": "markdown",
   "metadata": {},
   "source": [
    "# Helpers"
   ]
  },
  {
   "cell_type": "code",
   "execution_count": 2,
   "metadata": {},
   "outputs": [],
   "source": [
    "def latexify(figsize_inches=None, font_size=12):\n",
    "    \"\"\"Set up matplotlib's RC params for LaTeX plotting.\n",
    "\n",
    "    This function only needs to be called once per Python session.\n",
    "\n",
    "    Arguments\n",
    "    ---------\n",
    "    figsize_inches: tuple float (optional)\n",
    "        width, height of figure on inches\n",
    "\n",
    "    font_size: int\n",
    "        Size of font.\n",
    "    \"\"\"\n",
    "\n",
    "    usetex = matplotlib.checkdep_usetex(True)\n",
    "    if not usetex:\n",
    "        raise RuntimeError(\n",
    "            \"Matplotlib could not find a LaTeX installation on your machine.\"\n",
    "        )\n",
    "\n",
    "    # code adapted from http://www.scipy.org/Cookbook/Matplotlib/LaTeX_Examples\n",
    "    fig_width, fig_height = (\n",
    "        figsize_inches if figsize_inches is not None else (None, None)\n",
    "    )\n",
    "    if fig_width is None:\n",
    "        fig_width = 3.39\n",
    "\n",
    "    if fig_height is None:\n",
    "        golden_mean = (np.sqrt(5) - 1.0) / 2.0  # aesthetic ratio\n",
    "        fig_height = fig_width * golden_mean  # height in inches\n",
    "\n",
    "    max_height_inches = 8.0\n",
    "    if fig_height > max_height_inches:\n",
    "        print(\n",
    "            \"warning: fig_height too large:\"\n",
    "            + fig_height\n",
    "            + \"so will reduce to\"\n",
    "            + max_height_inches\n",
    "            + \"inches.\"\n",
    "        )\n",
    "        fig_height = max_height_inches\n",
    "\n",
    "    params = {\n",
    "        \"backend\": \"ps\",\n",
    "        \"text.latex.preamble\": \"\\\\usepackage{gensymb}\",\n",
    "        \"axes.labelsize\": font_size,\n",
    "        \"axes.titlesize\": font_size,\n",
    "        \"font.size\": font_size,\n",
    "        \"legend.fontsize\": font_size,\n",
    "        \"xtick.labelsize\": font_size,\n",
    "        \"ytick.labelsize\": font_size,\n",
    "        \"text.usetex\": True,\n",
    "        \"figure.figsize\": [fig_width, fig_height],\n",
    "        \"font.family\": \"serif\",\n",
    "    }\n",
    "\n",
    "    matplotlib.rcParams.update(params)"
   ]
  },
  {
   "cell_type": "code",
   "execution_count": 3,
   "metadata": {},
   "outputs": [],
   "source": [
    "def _format_axes(ax, spine_color=\"black\", linewidth=0.7):\n",
    "\n",
    "    for spine in [\"left\", \"bottom\", \"top\", \"right\"]:\n",
    "        ax.spines[spine].set_color(spine_color)\n",
    "        ax.spines[spine].set_linewidth(linewidth)\n",
    "\n",
    "    # ax.xaxis.set_ticks_position('bottom')\n",
    "\n",
    "    for axis in [ax.xaxis, ax.yaxis]:\n",
    "        axis.set_tick_params(direction=\"out\", color=spine_color)\n",
    "\n",
    "    return ax"
   ]
  },
  {
   "cell_type": "markdown",
   "metadata": {},
   "source": [
    "# Load Data"
   ]
  },
  {
   "cell_type": "code",
   "execution_count": 4,
   "metadata": {},
   "outputs": [],
   "source": [
    "import pickle"
   ]
  },
  {
   "cell_type": "code",
   "execution_count": 34,
   "metadata": {},
   "outputs": [],
   "source": [
    "# dataset = \"kelly_large\"\n",
    "# file = open(\"data_ECOS_noparam/ECOS_data_kelly_4_23_2021_17_16.pkl\", 'rb')\n",
    "\n",
    "dataset = \"kelly\"\n",
    "file = open(\"data_ECOS_noparam/ECOS_data_kelly_4_23_2021_21_15.pkl\", 'rb')\n",
    "\n",
    "# dataset = \"cvar\"\n",
    "# file = open(\"data_ECOS_noparam/ECOS_data_cvar_new_4_23_2021_21_54.pkl\", 'rb')\n",
    "\n",
    "# dataset = \"exp\"\n",
    "# file = open(\"data_ECOS_noparam/ECOS_data_exp_4_23_2021_22_2.pkl\", 'rb')\n",
    "\n",
    "# dataset = \"vecnewsven\"\n",
    "# file = open(\"data_ECOS_noparam/ECOS_data_vecnewsven_4_23_2021_22_18.pkl\", 'rb')\n",
    "\n",
    "stuff = pickle.load(file, encoding='latin1')\n",
    "file.close()"
   ]
  },
  {
   "cell_type": "code",
   "execution_count": 35,
   "metadata": {},
   "outputs": [],
   "source": [
    "objfs = stuff[\"objfs\"]\n",
    "objfs_validation = stuff[\"objfs_validation\"]\n",
    "lower_bounds = stuff[\"lower_bounds\"]\n",
    "runtimes = stuff[\"runtimes\"]\n",
    "rms_residuals = stuff[\"rms_residuals\"]\n",
    "time_cost_details = stuff[\"time_cost_details\"]\n",
    "best_xs = stuff[\"best_xs\"]\n",
    "ts = stuff[\"ts\"]\n",
    "q_norms = stuff[\"q_norms\"]\n",
    "f_grad_norms = stuff[\"f_grad_norms\"]\n",
    "num_f_evals = stuff[\"num_f_evals\"]\n",
    "iters_takens = stuff[\"iters_takens\"]\n",
    "alg_props = stuff[\"alg_props\"]"
   ]
  },
  {
   "cell_type": "code",
   "execution_count": 36,
   "metadata": {},
   "outputs": [
    {
     "name": "stdout",
     "output_type": "stream",
     "text": [
      "(200, 1)\n"
     ]
    }
   ],
   "source": [
    "print(best_xs.shape)"
   ]
  },
  {
   "cell_type": "code",
   "execution_count": 37,
   "metadata": {},
   "outputs": [
    {
     "name": "stdout",
     "output_type": "stream",
     "text": [
      "-0.05716755613684654\n"
     ]
    }
   ],
   "source": [
    "num_algs, max_num_rounds = objfs.shape\n",
    "n, _ = best_xs.shape\n",
    "rounds = range(0, max_num_rounds)\n",
    "objf_min = np.min(objfs[0, :])\n",
    "print(objf_min)"
   ]
  },
  {
   "cell_type": "markdown",
   "metadata": {},
   "source": [
    "# running min"
   ]
  },
  {
   "cell_type": "code",
   "execution_count": 38,
   "metadata": {},
   "outputs": [],
   "source": [
    "start_idx = 0\n",
    "objfs_running_min = np.array(objfs)\n",
    "for alg_idx in range(num_algs):\n",
    "    tmp_min = objfs[alg_idx, start_idx]\n",
    "    for i in range(start_idx + 1, max_num_rounds):\n",
    "        tmp_min = min(objfs[alg_idx, i], tmp_min)\n",
    "        objfs_running_min[alg_idx, i] = tmp_min"
   ]
  },
  {
   "cell_type": "code",
   "execution_count": 39,
   "metadata": {},
   "outputs": [],
   "source": [
    "start_idx = 1\n",
    "rms_res_running_min = np.array(rms_residuals)\n",
    "for alg_idx in range(num_algs):\n",
    "    tmp_min = rms_residuals[alg_idx, start_idx]\n",
    "    for i in range(start_idx + 1, max_num_rounds):\n",
    "        tmp_min = min(rms_residuals[alg_idx, i], tmp_min)\n",
    "        rms_res_running_min[alg_idx, i] = tmp_min"
   ]
  },
  {
   "cell_type": "markdown",
   "metadata": {},
   "source": [
    "# stopping criteria"
   ]
  },
  {
   "cell_type": "code",
   "execution_count": 40,
   "metadata": {},
   "outputs": [],
   "source": [
    "eps_gap_rel = 1e-3\n",
    "eps_res_abs = 1e-4\n",
    "eps_res_rel = 1e-3"
   ]
  },
  {
   "cell_type": "code",
   "execution_count": 41,
   "metadata": {},
   "outputs": [
    {
     "name": "stdout",
     "output_type": "stream",
     "text": [
      "iteration at which a stopping condition holds [100, 14]\n"
     ]
    }
   ],
   "source": [
    "for alg_idx in range(num_algs):\n",
    "    stop_iters = [max_num_rounds] * 2\n",
    "    for i in range(10, max_num_rounds):\n",
    "        if objfs[alg_idx, i] < np.inf and objfs_validation[alg_idx, i] < np.inf and \\\n",
    "        objfs[alg_idx, i] - lower_bounds[alg_idx, i] <= np.abs(objfs[alg_idx, i] - objfs_validation[alg_idx, i]) \\\n",
    "        + eps_gap_rel * np.abs(objfs[alg_idx, i]):\n",
    "            stop_iters[0] = min(i, stop_iters[0])\n",
    "        if ts[alg_idx, i] == 1 and \\\n",
    "        rms_residuals[alg_idx, i] <= eps_res_abs \\\n",
    "        + eps_res_rel * (q_norms[alg_idx, i] + f_grad_norms[alg_idx, i]) / np.sqrt(n):\n",
    "            stop_iters[1] = min(i, stop_iters[1])\n",
    "        if max(stop_iters) < max_num_rounds:\n",
    "            break\n",
    "    print(\"iteration at which a stopping condition holds\", stop_iters)\n",
    "    stop_iter = min(stop_iters)"
   ]
  },
  {
   "cell_type": "code",
   "execution_count": 13,
   "metadata": {},
   "outputs": [
    {
     "name": "stdout",
     "output_type": "stream",
     "text": [
      "r=0, M=1\n",
      "solve time to reach 1e-6 subopt = 5.111282825469971 iters = 60  num f evals = 5.6\n",
      "r=0, M=20\n",
      "solve time to reach 1e-6 subopt = 8.587738990783691 iters = 52  num f evals = 4.923076923076923\n",
      "r=0, M=50\n",
      "solve time to reach 1e-6 subopt = 16.260106086730957 iters = 44  num f evals = 4.818181818181818\n",
      "r=20, M=1\n",
      "solve time to reach 1e-6 subopt = 0.8102989196777344 iters = 11  num f evals = 1.9090909090909092\n",
      "r=20, M=20\n",
      "solve time to reach 1e-6 subopt = 1.7253401279449463 iters = 11  num f evals = 1.9090909090909092\n",
      "r=20, M=50\n",
      "solve time to reach 1e-6 subopt = 3.8119289875030518 iters = 11  num f evals = 1.9090909090909092\n",
      "r=50, M=1\n",
      "solve time to reach 1e-6 subopt = 0.8465611934661865 iters = 11  num f evals = 1.9090909090909092\n",
      "r=50, M=20\n",
      "solve time to reach 1e-6 subopt = 1.7381165027618408 iters = 11  num f evals = 1.9090909090909092\n",
      "r=50, M=50\n",
      "solve time to reach 1e-6 subopt = 3.8561017513275146 iters = 11  num f evals = 1.9090909090909092\n"
     ]
    }
   ],
   "source": [
    "ep = 1e-6\n",
    "for alg_idx in range(len(alg_props)):\n",
    "    subopt = objfs[alg_idx, :] - np.min(objfs[alg_idx, :])\n",
    "    iter_reach_ep = max_num_rounds\n",
    "    for i in range(max_num_rounds):\n",
    "        if subopt[i] <= ep:\n",
    "            iter_reach_ep = i\n",
    "            break\n",
    "    f_evals = np.mean(num_f_evals[alg_idx, 1:iter_reach_ep + 1], axis=0)\n",
    "    print(alg_props[alg_idx])\n",
    "    print(\"solve time to reach 1e-6 subopt =\", np.sum(runtimes[alg_idx, 0:iter_reach_ep + 1]),\n",
    "          \"iters =\", iter_reach_ep,\n",
    "          \" num f evals =\", f_evals)"
   ]
  },
  {
   "cell_type": "code",
   "execution_count": 14,
   "metadata": {},
   "outputs": [
    {
     "name": "stdout",
     "output_type": "stream",
     "text": [
      "time cost detail\n",
      "===============f======grad f====subp====L_k====\n",
      "r=0, M=1 ['0.006', '0.011', '0.029', '0.012']\n",
      "r=0, M=20 ['0.0062', '0.011', '0.062', '0.077']\n",
      "r=0, M=50 ['0.0059', '0.011', '0.14', '0.39']\n",
      "r=20, M=1 ['0.006', '0.011', '0.058', '0.013']\n",
      "r=20, M=20 ['0.006', '0.011', '0.11', '0.07']\n",
      "r=20, M=50 ['0.0058', '0.011', '0.2', '0.34']\n",
      "r=50, M=1 ['0.006', '0.011', '0.061', '0.014']\n",
      "r=50, M=20 ['0.0058', '0.011', '0.11', '0.093']\n",
      "r=50, M=50 ['0.0059', '0.011', '0.22', '0.4']\n"
     ]
    }
   ],
   "source": [
    "print(\"time cost detail\")\n",
    "print(\"===============f======grad f====subp====L_k====\")\n",
    "for alg_idx in range(len(alg_props)):\n",
    "    f_eval = np.mean(time_cost_details[0, alg_idx, 1::])\n",
    "    f_grad_eval = np.mean(time_cost_details[1, alg_idx, 1::])\n",
    "    subp_ave = np.mean(time_cost_details[2, alg_idx, 1::])\n",
    "    subp_first = time_cost_details[2, alg_idx, 1]\n",
    "    L_k_ave = np.mean(time_cost_details[3, alg_idx, 10:100:10])\n",
    "    L_k_first = time_cost_details[3, alg_idx, 10]\n",
    "    print_results = [f_eval, f_grad_eval, subp_ave, L_k_ave]\n",
    "    print(alg_props[alg_idx], ['{:g}'.format(float('{:.2g}'.format(print_results[i]))) for i in range(4)])"
   ]
  },
  {
   "cell_type": "code",
   "execution_count": 33,
   "metadata": {},
   "outputs": [
    {
     "name": "stdout",
     "output_type": "stream",
     "text": [
      "0.14476799964904785\n",
      "0.20641541481018066\n",
      "[0.14859271 0.22195649 0.18946862 0.24209094 0.21575141 0.24368739\n",
      " 0.23429918 0.25067782 0.23991513]\n"
     ]
    }
   ],
   "source": [
    "print(time_cost_details[2, alg_idx, 1])\n",
    "print(time_cost_details[3, alg_idx, 10])\n",
    "print(time_cost_details[2, alg_idx, 10:100:10])"
   ]
  },
  {
   "cell_type": "markdown",
   "metadata": {},
   "source": [
    "# setting"
   ]
  },
  {
   "cell_type": "code",
   "execution_count": 16,
   "metadata": {},
   "outputs": [],
   "source": [
    "linewidth = 1.0\n",
    "if dataset == \"kelly_large\":\n",
    "    figsize = (2.1 * 1.5, 2.1)\n",
    "    font_size = 10\n",
    "else:\n",
    "    figsize = (3 * 1.5, 3)\n",
    "    font_size = 11"
   ]
  },
  {
   "cell_type": "code",
   "execution_count": 17,
   "metadata": {},
   "outputs": [],
   "source": [
    "latexify(figsize, font_size)"
   ]
  },
  {
   "cell_type": "code",
   "execution_count": 18,
   "metadata": {},
   "outputs": [
    {
     "name": "stdout",
     "output_type": "stream",
     "text": [
      "['r=0, M=1', 'r=0, M=20', 'r=0, M=50', 'r=20, M=1', 'r=20, M=20', 'r=20, M=50', 'r=50, M=1', 'r=50, M=20', 'r=50, M=50']\n"
     ]
    }
   ],
   "source": [
    "print(alg_props)"
   ]
  },
  {
   "cell_type": "markdown",
   "metadata": {},
   "source": [
    "# Make plots"
   ]
  },
  {
   "cell_type": "markdown",
   "metadata": {},
   "source": [
    "## Varying $r$, $M$ plots"
   ]
  },
  {
   "cell_type": "code",
   "execution_count": 28,
   "metadata": {},
   "outputs": [
    {
     "data": {
      "image/png": "[encoded data removed]",
      "text/plain": [
       "<Figure size 226.8x151.2 with 1 Axes>"
      ]
     },
     "metadata": {
      "needs_background": "light"
     },
     "output_type": "display_data"
    }
   ],
   "source": [
    "if dataset == \"kelly_large\":\n",
    "\n",
    "    from matplotlib.patches import Patch\n",
    "    import matplotlib.lines as mlines\n",
    "\n",
    "    f,ax = plt.subplots()\n",
    "\n",
    "    legend_elements = [Patch(facecolor=\"mediumspringgreen\", edgecolor=\"mediumspringgreen\", label=\"$r=0$\"),\n",
    "                       Patch(facecolor=\"violet\", edgecolor=\"violet\", label=\"$r=20$\"),\n",
    "                       Patch(facecolor=\"blue\", edgecolor=\"blue\", label=\"$r=50$\"),   \n",
    "                       mlines.Line2D([], [], linestyle=':', color='k', label=\"$M=1$\"),\n",
    "                       mlines.Line2D([], [], linestyle='--', color='k', label=\"$M=20$\"),\n",
    "                       mlines.Line2D([], [], color='k', label=\"$M=50$\")]\n",
    "\n",
    "    colors = [\"mediumspringgreen\"] * 3 + [\"violet\"] * 3 + [\"blue\"] * 3\n",
    "    linestyles = [\"dotted\", \"dashed\", \"solid\"] * 3\n",
    "\n",
    "    # colors = [\"blue\", \"violet\", \"cyan\", \"green\", \"lime\", \"gold\", \"orangered\", \"sandybrown\", \"darkgray\"]\n",
    "    # linestyles = [\"solid\"] * 9\n",
    "    # legends = [\"$r=50,M=50$\", \"$r=50,M=20$\", \"$r=50,M=1$\", \"$r=20,M=50$\", \"$r=20,M=20$\", \"$r=20,M=1$\",\n",
    "    #           \"$r=0,M=50$\", \"$r=0,M=20$\", \"$r=0,M=1$\"]\n",
    "\n",
    "    for alg_idx in range(num_algs):\n",
    "        ax.semilogy(rounds, objfs_running_min[alg_idx, :] - np.min(objfs[alg_idx, :]), \n",
    "                    linewidth=0.7*linewidth, color=colors[alg_idx], linestyle=linestyles[alg_idx])#, label=legends[alg_idx])\n",
    "\n",
    "    # ax.semilogy(x, baseline3, linewidth=linewidth, color=\"green\", linestyle=\"dashed\", label=\"$M=50$\")\n",
    "    # ax.semilogy(x, baseline4, linewidth=linewidth, color=\"lime\", linestyle=\"dashed\", label=\"$M=20$\")\n",
    "    # ax.semilogy(x, baseline5, linewidth=linewidth, color=\"gold\", linestyle=\"dashed\", label=\"$M=1$\")\n",
    "\n",
    "    ax.set_xlim(left=1)\n",
    "    ax.set_ylim([1e-7, 1e-3])\n",
    "    # ax.legend(loc=\"upper right\", ncol=2)\n",
    "    ax.legend(loc=\"upper right\", handles=legend_elements)\n",
    "    ax.set_xlabel(\"Iterations\")\n",
    "    ax.set_ylabel(\"Suboptimality\")\n",
    "\n",
    "#     f.savefig(\"../../figures/large_scale_kelly_subopt_left.pdf\", bbox_inches=\"tight\")\n",
    "#     f.savefig(\"large_scale_dense_kelly_subopt_left.pdf\", bbox_inches=\"tight\")"
   ]
  },
  {
   "cell_type": "code",
   "execution_count": 29,
   "metadata": {},
   "outputs": [
    {
     "data": {
      "image/png": "[encoded data removed]",
      "text/plain": [
       "<Figure size 226.8x151.2 with 1 Axes>"
      ]
     },
     "metadata": {
      "needs_background": "light"
     },
     "output_type": "display_data"
    }
   ],
   "source": [
    "if dataset == \"kelly_large\":\n",
    "\n",
    "    f,ax = plt.subplots()\n",
    "\n",
    "    for alg_idx in range(num_algs):\n",
    "        ax.semilogy(np.cumsum(runtimes[alg_idx, 0:max_num_rounds]), \n",
    "                    objfs_running_min[alg_idx, :] - np.min(objfs[alg_idx, :]), \n",
    "                    linewidth=0.7*linewidth, color=colors[alg_idx], linestyle=linestyles[alg_idx])\n",
    "\n",
    "    ax.set_xlim(left=0)\n",
    "    ax.set_ylim([1e-7, 1e-3])\n",
    "    ax.set_xlabel(\"Seconds\")\n",
    "\n",
    "#     f.savefig(\"../../figures/large_scale_kelly_subopt_right.pdf\", bbox_inches=\"tight\")\n",
    "#     f.savefig(\"large_scale_dense_kelly_subopt_right.pdf\", bbox_inches=\"tight\")"
   ]
  },
  {
   "cell_type": "code",
   "execution_count": 21,
   "metadata": {},
   "outputs": [
    {
     "data": {
      "image/png": "[encoded data removed]",
      "text/plain": [
       "<Figure size 226.8x151.2 with 1 Axes>"
      ]
     },
     "metadata": {
      "needs_background": "light"
     },
     "output_type": "display_data"
    }
   ],
   "source": [
    "if dataset == \"kelly_large\":\n",
    "\n",
    "    f,ax = plt.subplots()\n",
    "\n",
    "    for alg_idx in range(num_algs):\n",
    "        ax.semilogy(rounds[start_idx:max_num_rounds], \n",
    "                    rms_res_running_min[alg_idx, start_idx:max_num_rounds], \n",
    "                    linewidth=0.7*linewidth, color=colors[alg_idx], linestyle=linestyles[alg_idx])\n",
    "\n",
    "    ax.set_xlim(left=1)\n",
    "    ax.set_ylim([1e-6, 1e-1])\n",
    "    ax.set_xlabel(\"Iterations\")\n",
    "    ax.set_ylabel(\"RMS residual\")\n",
    "\n",
    "#     f.savefig(\"../../figures/large_scale_kelly_rmsres_left.pdf\", bbox_inches=\"tight\")\n",
    "#     f.savefig(\"large_scale_dense_kelly_rmsres_left.pdf\", bbox_inches=\"tight\")"
   ]
  },
  {
   "cell_type": "code",
   "execution_count": 22,
   "metadata": {},
   "outputs": [
    {
     "data": {
      "image/png": "[encoded data removed]",
      "text/plain": [
       "<Figure size 226.8x151.2 with 1 Axes>"
      ]
     },
     "metadata": {
      "needs_background": "light"
     },
     "output_type": "display_data"
    }
   ],
   "source": [
    "if dataset == \"kelly_large\":\n",
    "\n",
    "    f,ax = plt.subplots()\n",
    "\n",
    "    for alg_idx in range(num_algs):\n",
    "        ax.semilogy(np.cumsum(runtimes[alg_idx, start_idx:max_num_rounds]), \n",
    "                    rms_res_running_min[alg_idx, start_idx:max_num_rounds], \n",
    "                    linewidth=0.7*linewidth, color=colors[alg_idx], linestyle=linestyles[alg_idx])\n",
    "\n",
    "    ax.set_xlim(left=0)\n",
    "    ax.set_ylim([1e-6, 1e-1])\n",
    "    ax.set_xlabel(\"Seconds\")\n",
    "\n",
    "#     f.savefig(\"../../figures/large_scale_kelly_rmsres_right.pdf\", bbox_inches=\"tight\")\n",
    "#     f.savefig(\"large_scale_dense_kelly_rmsres_right.pdf\", bbox_inches=\"tight\")"
   ]
  },
  {
   "cell_type": "code",
   "execution_count": 31,
   "metadata": {},
   "outputs": [
    {
     "data": {
      "image/png": "[encoded data removed]",
      "text/plain": [
       "<Figure size 226.8x151.2 with 1 Axes>"
      ]
     },
     "metadata": {
      "needs_background": "light"
     },
     "output_type": "display_data"
    }
   ],
   "source": [
    "if dataset == \"kelly_large\":\n",
    "\n",
    "    f,ax = plt.subplots()\n",
    "    \n",
    "    for alg_idx in range(9):\n",
    "        ax.semilogy(rounds, objfs[alg_idx, :] - lower_bounds[alg_idx, :], linewidth=0.7*linewidth, \n",
    "                    color=colors[alg_idx], linestyle=linestyles[alg_idx])\n",
    "\n",
    "    ax.set_xticks([25,50,75,100])\n",
    "    ax.set_xlim(left=1)\n",
    "#     ax.set_ylim([6e-6, 1e-1])\n",
    "    ax.set_xlabel(\"Iterations\")\n",
    "    ax.set_ylabel(\"Gap\")\n",
    "\n",
    "#     f.savefig(\"../../figures/large_scale_kelly_gap_left.pdf\", bbox_inches=\"tight\")\n",
    "#     f.savefig(\"large_scale_dense_kelly_gap_left.pdf\", bbox_inches=\"tight\")"
   ]
  },
  {
   "cell_type": "code",
   "execution_count": 24,
   "metadata": {},
   "outputs": [
    {
     "data": {
      "image/png": "[encoded data removed]",
      "text/plain": [
       "<Figure size 226.8x151.2 with 1 Axes>"
      ]
     },
     "metadata": {
      "needs_background": "light"
     },
     "output_type": "display_data"
    }
   ],
   "source": [
    "if dataset == \"kelly_large\":\n",
    "\n",
    "    f,ax = plt.subplots()\n",
    "\n",
    "    for alg_idx in range(num_algs):\n",
    "        ax.semilogy(np.cumsum(runtimes[alg_idx, 0:max_num_rounds]), \n",
    "                    objfs[alg_idx, :] - lower_bounds[alg_idx, :], \n",
    "                    linewidth=0.7*linewidth, color=colors[alg_idx], linestyle=linestyles[alg_idx])\n",
    "\n",
    "    ax.set_xlim(left=0)\n",
    "    ax.set_ylim([1e-6, 1e-1])\n",
    "    ax.set_xlabel(\"Seconds\")\n",
    "\n",
    "#     f.savefig(\"../../figures/large_scale_kelly_gap_right.pdf\", bbox_inches=\"tight\")\n",
    "#     f.savefig(\"large_scale_dense_kelly_gap_right.pdf\", bbox_inches=\"tight\")"
   ]
  },
  {
   "cell_type": "code",
   "execution_count": 25,
   "metadata": {},
   "outputs": [
    {
     "ename": "AssertionError",
     "evalue": "",
     "output_type": "error",
     "traceback": [
      "\u001b[0;31m---------------------------------------------------------------------------\u001b[0m",
      "\u001b[0;31mAssertionError\u001b[0m                            Traceback (most recent call last)",
      "\u001b[0;32m<ipython-input-25-ab2f7dd53b53>\u001b[0m in \u001b[0;36m<module>\u001b[0;34m\u001b[0m\n\u001b[1;32m      1\u001b[0m \u001b[0;32mif\u001b[0m \u001b[0mdataset\u001b[0m \u001b[0;34m==\u001b[0m \u001b[0;34m\"kelly_large\"\u001b[0m\u001b[0;34m:\u001b[0m\u001b[0;34m\u001b[0m\u001b[0;34m\u001b[0m\u001b[0m\n\u001b[0;32m----> 2\u001b[0;31m     \u001b[0;32massert\u001b[0m \u001b[0;32mFalse\u001b[0m\u001b[0;34m\u001b[0m\u001b[0;34m\u001b[0m\u001b[0m\n\u001b[0m",
      "\u001b[0;31mAssertionError\u001b[0m: "
     ]
    }
   ],
   "source": [
    "if dataset == \"kelly_large\":\n",
    "    assert False"
   ]
  },
  {
   "cell_type": "markdown",
   "metadata": {},
   "source": [
    "## Optimality gap plots"
   ]
  },
  {
   "cell_type": "code",
   "execution_count": null,
   "metadata": {},
   "outputs": [],
   "source": [
    "xlims = {\"kelly\":[1,40],\n",
    "         \"cvar\":[1,120],\n",
    "         \"exp\":[1,50],\n",
    "         \"vecnewsven\":[1,80]}"
   ]
  },
  {
   "cell_type": "code",
   "execution_count": null,
   "metadata": {},
   "outputs": [],
   "source": [
    "ylims = {\"kelly\":([1e-7, 1e-3], None),\n",
    "         \"cvar\":(None, None),\n",
    "         \"exp\":(None, None),\n",
    "         \"vecnewsven\":(None, [1e-2, 1])}"
   ]
  },
  {
   "cell_type": "code",
   "execution_count": null,
   "metadata": {},
   "outputs": [],
   "source": [
    "f,ax = plt.subplots()\n",
    "\n",
    "lower_bounds_fixed = [min(lower_bounds[alg_idx, i], np.min(objfs[alg_idx, :])) \n",
    "                      for i in range(max_num_rounds)]\n",
    "\n",
    "ax.semilogy(rounds, objfs_running_min[alg_idx, :] - np.min(objfs[alg_idx, :]), \n",
    "            linewidth=linewidth, color=\"orangered\", linestyle=\"solid\", label=\"Suboptimality\")\n",
    "\n",
    "if np.max(lower_bounds[alg_idx, :]) > -np.inf:\n",
    "    ax.semilogy(rounds, objfs[alg_idx, :] - lower_bounds_fixed, \n",
    "                linewidth=linewidth, color=\"sandybrown\", linestyle=\"solid\", label=\"Gap\")\n",
    "if np.min(objfs_validation[alg_idx, 1::]) < np.inf and \\\n",
    "np.min(np.abs(objfs[alg_idx, 1::] - objfs_validation[alg_idx, 1::])) > 0:\n",
    "    ax.semilogy(rounds[1::], np.abs(objfs[alg_idx, 1::] - objfs_validation[alg_idx, 1::]),\n",
    "                linewidth=linewidth, color=\"darkgray\", linestyle=\"solid\", label=\"Sampling accuracy\")\n",
    "\n",
    "ax.set_xlim(xlims[dataset])\n",
    "if ylims[dataset][0] is not None:\n",
    "    ax.set_ylim(ylims[dataset][0])\n",
    "ax.legend(loc=\"upper right\")\n",
    "ax.set_xlabel(\"Iterations\")\n",
    "ax.axvline(stop_iter, color=\"black\", linestyle=\"dotted\", linewidth=linewidth) # Us (\"practical\")\n",
    "ax.axvline(iter_reach_ep, color=\"lime\", linestyle=\"dotted\", linewidth=linewidth) # 1e-6 (\"high\")\n",
    "\n",
    "# f.savefig(\"../../figures/\" + dataset + \"_cvg_top.pdf\", bbox_inches=\"tight\")\n",
    "# f.savefig(dataset + \"_cvg_top.pdf\", bbox_inches=\"tight\")"
   ]
  },
  {
   "cell_type": "markdown",
   "metadata": {},
   "source": [
    "## Residual plots"
   ]
  },
  {
   "cell_type": "code",
   "execution_count": null,
   "metadata": {},
   "outputs": [],
   "source": [
    "f,ax = plt.subplots()\n",
    "ax.semilogy(rounds[start_idx::], rms_res_running_min[alg_idx, start_idx::], \n",
    "            linewidth=linewidth, color=\"orangered\", linestyle=\"solid\", label=\"RMS residual\")\n",
    "ax.set_xlim(xlims[dataset])\n",
    "if ylims[dataset][1] is not None:\n",
    "    ax.set_ylim(ylims[dataset][1])\n",
    "ax.legend(loc=\"upper right\")\n",
    "ax.set_xlabel(\"Iterations\")\n",
    "ax.axvline(stop_iter, color=\"black\", linestyle=\"dotted\", linewidth=linewidth)\n",
    "ax.axvline(iter_reach_ep, color=\"lime\", linestyle=\"dotted\", linewidth=linewidth)\n",
    "\n",
    "# f.savefig(\"../../figures/\" + dataset + \"_cvg_bottom.pdf\", bbox_inches=\"tight\")\n",
    "# f.savefig(dataset + \"_cvg_bottom.pdf\", bbox_inches=\"tight\")"
   ]
  },
  {
   "cell_type": "code",
   "execution_count": null,
   "metadata": {},
   "outputs": [],
   "source": [
    "assert False"
   ]
  },
  {
   "cell_type": "markdown",
   "metadata": {},
   "source": [
    "# Notes"
   ]
  },
  {
   "cell_type": "markdown",
   "metadata": {},
   "source": [
    "Play with the figsize variable (above) so that you don't have to use width/height/scale/whatever in the LaTeX to get the image size to look \"right\"; i.e., the plot should be the right size \"as-is\".\n",
    "\n",
    "For multiple side-by-side plots (e.g., Fig 1), keep only putting the legend in the top left-most plot (as you are currently doing).\n",
    "\n",
    "I would probably just put one vertical line to indicate when OSMM terminates (as above). I.e., I probably wouldn't put multiple \"stars\" (or whatever they are) on the lines (e.g., as in the right panel of Fig 9)."
   ]
  },
  {
   "cell_type": "code",
   "execution_count": null,
   "metadata": {},
   "outputs": [],
   "source": []
  }
 ],
 "metadata": {
  "kernelspec": {
   "display_name": "Python 3",
   "language": "python",
   "name": "python3"
  },
  "language_info": {
   "codemirror_mode": {
    "name": "ipython",
    "version": 3
   },
   "file_extension": ".py",
   "mimetype": "text/x-python",
   "name": "python",
   "nbconvert_exporter": "python",
   "pygments_lexer": "ipython3",
   "version": "3.7.6"
  }
 },
 "nbformat": 4,
 "nbformat_minor": 4
}
