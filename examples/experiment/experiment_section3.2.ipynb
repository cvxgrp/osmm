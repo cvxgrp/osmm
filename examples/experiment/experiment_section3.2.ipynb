{
 "cells": [
  {
   "cell_type": "code",
   "execution_count": 1,
   "metadata": {},
   "outputs": [
    {
     "name": "stdout",
     "output_type": "stream",
     "text": [
      "device = cpu\n"
     ]
    }
   ],
   "source": [
    "# import os\n",
    "# os.environ['CUDA_VISIBLE_DEVICES']='1'\n",
    "\n",
    "solver = \"ECOS\"\n",
    "save_data = False\n",
    "\n",
    "from kelly_gambling import *\n",
    "dataset = \"kelly\"\n",
    "\n",
    "from osmm import OSMM\n",
    "import pickle\n",
    "import datetime"
   ]
  },
  {
   "cell_type": "code",
   "execution_count": 2,
   "metadata": {},
   "outputs": [],
   "source": [
    "max_num_rounds = 100"
   ]
  },
  {
   "cell_type": "code",
   "execution_count": 3,
   "metadata": {},
   "outputs": [],
   "source": [
    "alg_props = {    \n",
    "    \"r=0, M=1\": [0, 0, 1],\n",
    "    \"r=0, M=20\": [1, 0, 20],\n",
    "    \"r=0, M=50\": [2, 0, 50],\n",
    "}\n",
    "    \n",
    "num_algs = len(alg_props)"
   ]
  },
  {
   "cell_type": "code",
   "execution_count": 10,
   "metadata": {},
   "outputs": [],
   "source": [
    "repeat_times = 3"
   ]
  },
  {
   "cell_type": "code",
   "execution_count": 11,
   "metadata": {},
   "outputs": [],
   "source": [
    "# Define structs:\n",
    "objfs = np.zeros((repeat_times, num_algs, max_num_rounds))\n",
    "objfs_validation = np.zeros((repeat_times, num_algs, max_num_rounds))\n",
    "runtimes = np.zeros((repeat_times, num_algs, max_num_rounds))\n",
    "iters_takens = np.zeros((repeat_times, num_algs))\n",
    "damping_facs = np.ones((repeat_times, num_algs, max_num_rounds))\n",
    "mus = np.ones((repeat_times, num_algs, max_num_rounds))\n",
    "ts = np.ones((repeat_times, num_algs, max_num_rounds))\n",
    "Xs = np.zeros((repeat_times, n, num_algs, max_num_rounds))\n",
    "lower_bounds = np.ones((repeat_times, num_algs, max_num_rounds)) * (-np.inf)\n",
    "best_xs = np.zeros((repeat_times, n, num_algs))\n",
    "v_norms = np.zeros((repeat_times, num_algs, max_num_rounds))\n",
    "num_f_evals = np.zeros((repeat_times, num_algs, max_num_rounds))\n",
    "rms_residuals = np.zeros((repeat_times, num_algs, max_num_rounds))\n",
    "q_norms = np.zeros((repeat_times, num_algs, max_num_rounds))\n",
    "f_grad_norms = np.zeros((repeat_times, num_algs, max_num_rounds))\n",
    "time_cost_details = np.zeros((repeat_times, 5, num_algs, max_num_rounds))\n",
    "baseline_opt_objf = []\n",
    "baseline_time_cost = []"
   ]
  },
  {
   "cell_type": "code",
   "execution_count": 12,
   "metadata": {},
   "outputs": [],
   "source": [
    "osmm_prob = OSMM()\n",
    "osmm_prob.f_torch.function = my_f_torch\n",
    "osmm_prob.g_cvxpy.variable = g_var\n",
    "osmm_prob.g_cvxpy.objective = g_obj\n",
    "osmm_prob.g_cvxpy.constraints = g_constr"
   ]
  },
  {
   "cell_type": "code",
   "execution_count": 13,
   "metadata": {},
   "outputs": [],
   "source": [
    "init_val = np.ones(n) / n"
   ]
  },
  {
   "cell_type": "code",
   "execution_count": 14,
   "metadata": {},
   "outputs": [
    {
     "name": "stdout",
     "output_type": "stream",
     "text": [
      "repeat = 0\n",
      "dataset = kelly:\n",
      "End generate data\n",
      "    r=0, M=1:\n",
      "iter = 10, objf = -2.486e-02, lower bound = -1.419e-01, RMS residual = 1.019e-02, ||G||_F = 0.000e+00\n",
      "iter = 20, objf = -4.459e-02, lower bound = -1.291e-01, RMS residual = 1.247e-02, ||G||_F = 0.000e+00\n",
      "iter = 30, objf = -5.964e-02, lower bound = -9.135e-02, RMS residual = 6.282e-03, ||G||_F = 0.000e+00\n",
      "iter = 40, objf = -6.354e-02, lower bound = -7.409e-02, RMS residual = 3.222e-03, ||G||_F = 0.000e+00\n",
      "iter = 50, objf = -6.412e-02, lower bound = -6.884e-02, RMS residual = 1.413e-03, ||G||_F = 0.000e+00\n",
      "iter = 60, objf = -6.424e-02, lower bound = -6.469e-02, RMS residual = 7.441e-04, ||G||_F = 0.000e+00\n",
      "iter = 70, objf = -6.426e-02, lower bound = -6.430e-02, RMS residual = 5.510e-06, ||G||_F = 0.000e+00\n",
      "iter = 80, objf = -6.426e-02, lower bound = -6.426e-02, RMS residual = 4.866e-07, ||G||_F = 0.000e+00\n",
      "iter = 90, objf = -6.426e-02, lower bound = -6.426e-02, RMS residual = 4.622e-07, ||G||_F = 0.000e+00\n",
      "      Terminated. Num iterations = 99, objf = -6.426e-02, lower bound = -6.426e-02, RMS residual = 4.309e-07.\n",
      "      Time elapsed (secs): 2.125697.\n",
      "\n",
      "\n",
      "    r=0, M=20:\n",
      "iter = 10, objf = -4.291e-02, lower bound = -9.002e-02, RMS residual = 2.819e-02, ||G||_F = 0.000e+00\n",
      "iter = 20, objf = -6.043e-02, lower bound = -7.942e-02, RMS residual = 3.290e-02, ||G||_F = 0.000e+00\n",
      "iter = 30, objf = -6.335e-02, lower bound = -6.742e-02, RMS residual = 5.058e-03, ||G||_F = 0.000e+00\n",
      "iter = 40, objf = -6.421e-02, lower bound = -6.465e-02, RMS residual = 8.989e-04, ||G||_F = 0.000e+00\n",
      "iter = 50, objf = -6.425e-02, lower bound = -6.429e-02, RMS residual = 1.578e-04, ||G||_F = 0.000e+00\n",
      "iter = 60, objf = -6.426e-02, lower bound = -6.426e-02, RMS residual = 1.361e-05, ||G||_F = 0.000e+00\n",
      "iter = 70, objf = -6.426e-02, lower bound = -6.426e-02, RMS residual = 4.449e-06, ||G||_F = 0.000e+00\n",
      "iter = 80, objf = -6.426e-02, lower bound = -6.426e-02, RMS residual = 1.362e-06, ||G||_F = 0.000e+00\n",
      "iter = 90, objf = -6.426e-02, lower bound = -6.426e-02, RMS residual = 3.660e-06, ||G||_F = 0.000e+00\n",
      "      Terminated. Num iterations = 99, objf = -6.426e-02, lower bound = -6.426e-02, RMS residual = 3.409e-06.\n",
      "      Time elapsed (secs): 2.833660.\n",
      "\n",
      "\n",
      "    r=0, M=50:\n",
      "iter = 10, objf = -4.291e-02, lower bound = -9.002e-02, RMS residual = 2.819e-02, ||G||_F = 0.000e+00\n",
      "iter = 20, objf = -6.043e-02, lower bound = -7.942e-02, RMS residual = 3.290e-02, ||G||_F = 0.000e+00\n",
      "iter = 30, objf = -6.346e-02, lower bound = -6.723e-02, RMS residual = 5.336e-03, ||G||_F = 0.000e+00\n",
      "iter = 40, objf = -6.421e-02, lower bound = -6.445e-02, RMS residual = 8.829e-04, ||G||_F = 0.000e+00\n",
      "iter = 50, objf = -6.426e-02, lower bound = -6.427e-02, RMS residual = 1.031e-04, ||G||_F = 0.000e+00\n",
      "iter = 60, objf = -6.426e-02, lower bound = -6.426e-02, RMS residual = 1.420e-05, ||G||_F = 0.000e+00\n"
     ]
    },
    {
     "name": "stderr",
     "output_type": "stream",
     "text": [
      "/Users/xinyueshen/anaconda3/lib/python3.7/site-packages/cvxpy/problems/problem.py:1279: UserWarning: Solution may be inaccurate. Try another solver, adjusting the solver settings, or solve with verbose=True for more information.\n",
      "  \"Solution may be inaccurate. Try another solver, \"\n"
     ]
    },
    {
     "name": "stdout",
     "output_type": "stream",
     "text": [
      "iter = 70, objf = -6.426e-02, lower bound = -6.426e-02, RMS residual = 4.353e-06, ||G||_F = 0.000e+00\n",
      "iter = 80, objf = -6.426e-02, lower bound = -6.426e-02, RMS residual = 1.635e-06, ||G||_F = 0.000e+00\n",
      "iter = 90, objf = -6.426e-02, lower bound = -6.426e-02, RMS residual = 1.825e-06, ||G||_F = 0.000e+00\n",
      "      Terminated. Num iterations = 99, objf = -6.426e-02, lower bound = -6.426e-02, RMS residual = 2.156e-06.\n",
      "      Time elapsed (secs): 3.659802.\n",
      "\n",
      "\n",
      "repeat = 1\n",
      "dataset = kelly:\n",
      "End generate data\n",
      "    r=0, M=1:\n",
      "iter = 10, objf = -2.596e-02, lower bound = -1.503e-01, RMS residual = 1.445e-02, ||G||_F = 0.000e+00\n",
      "iter = 20, objf = -4.635e-02, lower bound = -1.138e-01, RMS residual = 1.040e-02, ||G||_F = 0.000e+00\n",
      "iter = 30, objf = -5.983e-02, lower bound = -8.785e-02, RMS residual = 6.265e-03, ||G||_F = 0.000e+00\n",
      "iter = 40, objf = -6.268e-02, lower bound = -7.186e-02, RMS residual = 3.204e-03, ||G||_F = 0.000e+00\n",
      "iter = 50, objf = -6.321e-02, lower bound = -6.802e-02, RMS residual = 5.971e-04, ||G||_F = 0.000e+00\n",
      "iter = 60, objf = -6.327e-02, lower bound = -6.638e-02, RMS residual = 2.149e-04, ||G||_F = 0.000e+00\n",
      "iter = 70, objf = -6.328e-02, lower bound = -6.392e-02, RMS residual = 1.001e-04, ||G||_F = 0.000e+00\n",
      "iter = 80, objf = -6.328e-02, lower bound = -6.329e-02, RMS residual = 5.544e-06, ||G||_F = 0.000e+00\n",
      "iter = 90, objf = -6.328e-02, lower bound = -6.329e-02, RMS residual = 6.312e-07, ||G||_F = 0.000e+00\n",
      "      Terminated. Num iterations = 99, objf = -6.328e-02, lower bound = -6.329e-02, RMS residual = 2.745e-07.\n",
      "      Time elapsed (secs): 2.112550.\n",
      "\n",
      "\n",
      "    r=0, M=20:\n",
      "iter = 10, objf = -4.445e-02, lower bound = -8.922e-02, RMS residual = 2.932e-02, ||G||_F = 0.000e+00\n",
      "iter = 20, objf = -6.065e-02, lower bound = -7.736e-02, RMS residual = 2.971e-02, ||G||_F = 0.000e+00\n",
      "iter = 30, objf = -6.270e-02, lower bound = -6.577e-02, RMS residual = 3.866e-03, ||G||_F = 0.000e+00\n",
      "iter = 40, objf = -6.325e-02, lower bound = -6.362e-02, RMS residual = 8.288e-04, ||G||_F = 0.000e+00\n",
      "iter = 50, objf = -6.328e-02, lower bound = -6.329e-02, RMS residual = 1.046e-04, ||G||_F = 0.000e+00\n",
      "iter = 60, objf = -6.328e-02, lower bound = -6.328e-02, RMS residual = 1.479e-05, ||G||_F = 0.000e+00\n",
      "iter = 70, objf = -6.328e-02, lower bound = -6.328e-02, RMS residual = 1.407e-05, ||G||_F = 0.000e+00\n",
      "iter = 80, objf = -6.328e-02, lower bound = -6.328e-02, RMS residual = 7.045e-06, ||G||_F = 0.000e+00\n",
      "iter = 90, objf = -6.328e-02, lower bound = -6.328e-02, RMS residual = 4.454e-06, ||G||_F = 0.000e+00\n",
      "      Terminated. Num iterations = 99, objf = -6.328e-02, lower bound = -6.328e-02, RMS residual = 3.837e-06.\n",
      "      Time elapsed (secs): 2.759706.\n",
      "\n",
      "\n",
      "    r=0, M=50:\n",
      "iter = 10, objf = -4.445e-02, lower bound = -8.922e-02, RMS residual = 2.932e-02, ||G||_F = 0.000e+00\n",
      "iter = 20, objf = -6.065e-02, lower bound = -7.736e-02, RMS residual = 2.971e-02, ||G||_F = 0.000e+00\n",
      "iter = 30, objf = -6.279e-02, lower bound = -6.541e-02, RMS residual = 4.096e-03, ||G||_F = 0.000e+00\n",
      "iter = 40, objf = -6.325e-02, lower bound = -6.348e-02, RMS residual = 7.516e-04, ||G||_F = 0.000e+00\n",
      "iter = 50, objf = -6.328e-02, lower bound = -6.329e-02, RMS residual = 9.057e-05, ||G||_F = 0.000e+00\n",
      "iter = 60, objf = -6.328e-02, lower bound = -6.328e-02, RMS residual = 2.136e-05, ||G||_F = 0.000e+00\n",
      "iter = 70, objf = -6.328e-02, lower bound = -6.328e-02, RMS residual = 2.124e-05, ||G||_F = 0.000e+00\n",
      "iter = 80, objf = -6.328e-02, lower bound = -6.328e-02, RMS residual = 2.083e-05, ||G||_F = 0.000e+00\n",
      "iter = 90, objf = -6.328e-02, lower bound = -6.328e-02, RMS residual = 1.893e-05, ||G||_F = 0.000e+00\n",
      "      Terminated. Num iterations = 99, objf = -6.328e-02, lower bound = -6.328e-02, RMS residual = 1.577e-05.\n",
      "      Time elapsed (secs): 3.468729.\n",
      "\n",
      "\n",
      "repeat = 2\n",
      "dataset = kelly:\n",
      "End generate data\n",
      "    r=0, M=1:\n",
      "iter = 10, objf = -2.684e-02, lower bound = -1.522e-01, RMS residual = 1.378e-02, ||G||_F = 0.000e+00\n",
      "iter = 20, objf = -4.839e-02, lower bound = -1.191e-01, RMS residual = 6.836e-03, ||G||_F = 0.000e+00\n",
      "iter = 30, objf = -5.967e-02, lower bound = -8.883e-02, RMS residual = 4.133e-03, ||G||_F = 0.000e+00\n",
      "iter = 40, objf = -6.342e-02, lower bound = -7.240e-02, RMS residual = 3.114e-03, ||G||_F = 0.000e+00\n",
      "iter = 50, objf = -6.394e-02, lower bound = -6.497e-02, RMS residual = 7.413e-04, ||G||_F = 0.000e+00\n",
      "iter = 60, objf = -6.406e-02, lower bound = -6.429e-02, RMS residual = 6.227e-04, ||G||_F = 0.000e+00\n",
      "iter = 70, objf = -6.407e-02, lower bound = -6.410e-02, RMS residual = 1.262e-05, ||G||_F = 0.000e+00\n",
      "iter = 80, objf = -6.407e-02, lower bound = -6.410e-02, RMS residual = 1.294e-06, ||G||_F = 0.000e+00\n",
      "iter = 90, objf = -6.407e-02, lower bound = -6.407e-02, RMS residual = 2.271e-07, ||G||_F = 0.000e+00\n",
      "      Terminated. Num iterations = 99, objf = -6.407e-02, lower bound = -6.407e-02, RMS residual = 1.172e-07.\n",
      "      Time elapsed (secs): 2.202987.\n",
      "\n",
      "\n",
      "    r=0, M=20:\n",
      "iter = 10, objf = -4.734e-02, lower bound = -8.740e-02, RMS residual = 3.051e-02, ||G||_F = 0.000e+00\n",
      "iter = 20, objf = -5.997e-02, lower bound = -7.828e-02, RMS residual = 3.268e-02, ||G||_F = 0.000e+00\n",
      "iter = 30, objf = -6.312e-02, lower bound = -6.770e-02, RMS residual = 5.729e-03, ||G||_F = 0.000e+00\n",
      "iter = 40, objf = -6.401e-02, lower bound = -6.453e-02, RMS residual = 1.365e-03, ||G||_F = 0.000e+00\n",
      "iter = 50, objf = -6.407e-02, lower bound = -6.411e-02, RMS residual = 2.028e-04, ||G||_F = 0.000e+00\n",
      "iter = 60, objf = -6.407e-02, lower bound = -6.407e-02, RMS residual = 1.594e-05, ||G||_F = 0.000e+00\n",
      "iter = 70, objf = -6.407e-02, lower bound = -6.407e-02, RMS residual = 1.369e-05, ||G||_F = 0.000e+00\n",
      "iter = 80, objf = -6.407e-02, lower bound = -6.407e-02, RMS residual = 7.703e-06, ||G||_F = 0.000e+00\n",
      "iter = 90, objf = -6.407e-02, lower bound = -6.407e-02, RMS residual = 4.011e-06, ||G||_F = 0.000e+00\n",
      "      Terminated. Num iterations = 99, objf = -6.407e-02, lower bound = -6.407e-02, RMS residual = 3.933e-06.\n",
      "      Time elapsed (secs): 2.782144.\n",
      "\n",
      "\n",
      "    r=0, M=50:\n",
      "iter = 10, objf = -4.734e-02, lower bound = -8.740e-02, RMS residual = 3.051e-02, ||G||_F = 0.000e+00\n",
      "iter = 20, objf = -5.997e-02, lower bound = -7.828e-02, RMS residual = 3.268e-02, ||G||_F = 0.000e+00\n",
      "iter = 30, objf = -6.322e-02, lower bound = -6.678e-02, RMS residual = 5.441e-03, ||G||_F = 0.000e+00\n",
      "iter = 40, objf = -6.404e-02, lower bound = -6.460e-02, RMS residual = 1.159e-03, ||G||_F = 0.000e+00\n",
      "iter = 50, objf = -6.407e-02, lower bound = -6.408e-02, RMS residual = 1.174e-04, ||G||_F = 0.000e+00\n",
      "iter = 60, objf = -6.407e-02, lower bound = -6.407e-02, RMS residual = 1.674e-05, ||G||_F = 0.000e+00\n",
      "iter = 70, objf = -6.407e-02, lower bound = -6.407e-02, RMS residual = 1.394e-05, ||G||_F = 0.000e+00\n",
      "iter = 80, objf = -6.407e-02, lower bound = -6.407e-02, RMS residual = 4.456e-06, ||G||_F = 0.000e+00\n",
      "iter = 90, objf = -6.407e-02, lower bound = -6.407e-02, RMS residual = 3.502e-06, ||G||_F = 0.000e+00\n",
      "      Terminated. Num iterations = 99, objf = -6.407e-02, lower bound = -6.407e-02, RMS residual = 1.913e-06.\n",
      "      Time elapsed (secs): 3.710038.\n",
      "\n",
      "\n"
     ]
    }
   ],
   "source": [
    "for repeat_idx in range(repeat_times):\n",
    "    print(\"repeat =\", repeat_idx)\n",
    "    print(\"dataset = %s:\" % (dataset))\n",
    "    W = generate_random_data(None)\n",
    "    print(\"End generate data\")\n",
    "    osmm_prob.f_torch.W_torch = torch.tensor(W, dtype=torch.float)\n",
    "    for alg_name in alg_props:\n",
    "        print(\"    \" + alg_name + \":\")\n",
    "        alg_idx = alg_props[alg_name][0]\n",
    "        H_rank = alg_props[alg_name][1]\n",
    "        M = alg_props[alg_name][2]\n",
    "        \n",
    "        osmm_prob.solve(init_val, max_iter=max_num_rounds, \n",
    "                        hessian_rank=H_rank, gradient_memory=M,\n",
    "                        solver=solver, use_termination_criteria=False, verbose=True, use_Hutchinson_init=False)\n",
    "\n",
    "        Xs[repeat_idx, :, alg_idx, :] = osmm_prob.method_results[\"var_iters\"]\n",
    "        objfs[repeat_idx, alg_idx, :] = osmm_prob.method_results[\"objf_iters\"]\n",
    "        objfs_validation[repeat_idx, alg_idx, :] = osmm_prob.method_results[\"objf_validate_iters\"]\n",
    "        lower_bounds[repeat_idx, alg_idx, :] = osmm_prob.method_results[\"lower_bound_iters\"]\n",
    "        damping_facs[repeat_idx, alg_idx, :] = osmm_prob.method_results[\"lam_iters\"]\n",
    "        mus[repeat_idx, alg_idx, :] = osmm_prob.method_results[\"mu_iters\"]\n",
    "        ts[repeat_idx, alg_idx, :] = osmm_prob.method_results[\"t_iters\"]\n",
    "        runtimes[repeat_idx, alg_idx, :] = osmm_prob.method_results[\"time_iters\"]\n",
    "        best_xs[repeat_idx, :, alg_idx] = osmm_prob.method_results[\"soln\"]\n",
    "        v_norms[repeat_idx, alg_idx, :] = osmm_prob.method_results[\"v_norm_iters\"]\n",
    "        num_f_evals[repeat_idx, alg_idx, :] = osmm_prob.method_results[\"num_f_evals_iters\"]\n",
    "        rms_residuals[repeat_idx, alg_idx, :] = osmm_prob.method_results[\"rms_res_iters\"]\n",
    "        f_grad_norms[repeat_idx, alg_idx, :] = osmm_prob.method_results[\"f_grad_norm_iters\"]\n",
    "        q_norms[repeat_idx, alg_idx, :] = osmm_prob.method_results[\"q_norm_iters\"]\n",
    "        time_cost_details[repeat_idx, :, alg_idx, :] = osmm_prob.method_results[\"time_detail_iters\"]\n",
    "        iters_takens[repeat_idx, alg_idx] = osmm_prob.method_results[\"total_iters\"]\n",
    "        print(\"\")"
   ]
  },
  {
   "cell_type": "code",
   "execution_count": 15,
   "metadata": {},
   "outputs": [
    {
     "name": "stdout",
     "output_type": "stream",
     "text": [
      "W shape = (201, 1000)\n",
      "log10 N = 3.0 , n = 200\n"
     ]
    }
   ],
   "source": [
    "print(\"W shape =\", W.shape)\n",
    "_, N = W.shape\n",
    "print(\"log10 N =\", np.log10(N), \", n =\", n)"
   ]
  },
  {
   "cell_type": "code",
   "execution_count": 11,
   "metadata": {},
   "outputs": [],
   "source": [
    "stuff = {}\n",
    "stuff[\"objfs\"] = objfs\n",
    "stuff[\"objfs_validation\"] = objfs_validation\n",
    "stuff[\"lower_bounds\"] = lower_bounds\n",
    "stuff[\"runtimes\"] = runtimes\n",
    "stuff[\"rms_residuals\"] = rms_residuals\n",
    "stuff[\"f_grad_norms\"] = f_grad_norms\n",
    "stuff[\"q_norms\"] = q_norms\n",
    "stuff[\"damping_facs\"] = damping_facs\n",
    "stuff[\"ts\"] = ts\n",
    "stuff[\"Xs\"] = Xs\n",
    "stuff[\"best_xs\"] = best_xs\n",
    "stuff[\"v_norms\"] = v_norms\n",
    "stuff[\"num_f_evals\"] = num_f_evals\n",
    "stuff[\"iters_takens\"] = iters_takens\n",
    "stuff[\"time_cost_details\"] = time_cost_details\n",
    "stuff[\"alg_props\"] = list(alg_props.keys())\n",
    "\n",
    "stuff[\"baseline_opt_objf\"] = baseline_opt_objf\n",
    "stuff[\"baseline_time_cost\"] = baseline_time_cost\n",
    "now = datetime.datetime.now()\n",
    "mmddyyhhmm = (\"%d_%d_%d_%d_%d\" % (now.month, now.day, now.year, now.hour, now.minute))\n",
    "part_of_out_fn = dataset + \"\" + mmddyyhhmm"
   ]
  },
  {
   "cell_type": "code",
   "execution_count": 12,
   "metadata": {},
   "outputs": [],
   "source": [
    "if save_data:\n",
    "    pickle.dump(stuff, open(\"ECOS_data_%s.pkl\" % (part_of_out_fn), \"wb\"))"
   ]
  },
  {
   "cell_type": "markdown",
   "metadata": {},
   "source": [
    "## timing results"
   ]
  },
  {
   "cell_type": "code",
   "execution_count": 21,
   "metadata": {},
   "outputs": [],
   "source": [
    "ep = 1e-6\n",
    "solve_time_all = np.zeros((repeat_times, num_algs))\n",
    "solve_iter_all = np.zeros((repeat_times, num_algs))\n",
    "f_eval_all = np.zeros((repeat_times, num_algs))\n",
    "for repeat_idx in range(repeat_times):\n",
    "    for alg_idx in range(len(alg_props)):\n",
    "        subopt = objfs[repeat_idx, alg_idx, :] - np.min(objfs[repeat_idx, :, :])\n",
    "        iter_reach_ep = max_num_rounds\n",
    "        for i in range(max_num_rounds):\n",
    "            if subopt[i] <= ep:\n",
    "                iter_reach_ep = i\n",
    "                break\n",
    "        f_evals = np.mean(num_f_evals[repeat_idx, alg_idx, 1:iter_reach_ep], axis=0)\n",
    "#         print(\"iters to reach 1e-6 subopt = \", iter_reach_ep)\n",
    "#         print(\"solve time to reach 1e-6 subopt = \", np.sum(runtimes[repeat_idx, alg_idx, 0:iter_reach_ep + 1]))\n",
    "#         print(\"f evals\", f_evals)\n",
    "        solve_time_all[repeat_idx, alg_idx] = np.sum(runtimes[repeat_idx, alg_idx, 0:iter_reach_ep + 1])\n",
    "        solve_iter_all[repeat_idx, alg_idx] = iter_reach_ep\n",
    "        f_eval_all[repeat_idx, alg_idx] = f_evals"
   ]
  },
  {
   "cell_type": "code",
   "execution_count": 22,
   "metadata": {},
   "outputs": [
    {
     "name": "stdout",
     "output_type": "stream",
     "text": [
      "[1.36160723 1.33172282 1.49965858]\n",
      "[64.33333333 51.33333333 49.66666667]\n",
      "[3.99666922 3.47150183 3.38407029]\n"
     ]
    }
   ],
   "source": [
    "print(np.mean(solve_time_all[:, :], axis=0))\n",
    "print(np.mean(solve_iter_all[:, :], axis=0))\n",
    "print(np.mean(f_eval_all[:, :], axis=0))"
   ]
  },
  {
   "cell_type": "code",
   "execution_count": 23,
   "metadata": {},
   "outputs": [
    {
     "name": "stdout",
     "output_type": "stream",
     "text": [
      "time cost detail\n",
      "===============f======grad f====subp====L_k====\n",
      "0 ['0.00036', '0.00037', '0.018', '0.0075']\n",
      "1 ['0.0006', '0.00038', '0.024', '0.012']\n",
      "2 ['0.00061', '0.00038', '0.031', '0.023']\n"
     ]
    }
   ],
   "source": [
    "# mean_time_details = np.mean(time_cost_details, axis=3)\n",
    "print(\"time cost detail\")\n",
    "print(\"===============f======grad f====subp====L_k====\")\n",
    "for alg_idx in range(len(alg_props)):\n",
    "    f_eval = np.mean(time_cost_details[:, 0, alg_idx, 1::])\n",
    "    f_grad_eval = np.mean(time_cost_details[:, 1, alg_idx, 1::])\n",
    "    subp_ave = np.mean(time_cost_details[:, 2, alg_idx, 2::])\n",
    "    subp_first = time_cost_details[:, 2, alg_idx, 1]\n",
    "    L_k_ave = np.mean(time_cost_details[:, 3, alg_idx, 20:100:10])\n",
    "    L_k_first = time_cost_details[:, 3, alg_idx, 10]\n",
    "    print_results = [f_eval, f_grad_eval, subp_ave, L_k_ave]\n",
    "    print(alg_idx, ['{:g}'.format(float('{:.2g}'.format(print_results[i]))) for i in range(4)])"
   ]
  },
  {
   "cell_type": "code",
   "execution_count": null,
   "metadata": {},
   "outputs": [],
   "source": []
  }
 ],
 "metadata": {
  "kernelspec": {
   "display_name": "Python 3",
   "language": "python",
   "name": "python3"
  },
  "language_info": {
   "codemirror_mode": {
    "name": "ipython",
    "version": 3
   },
   "file_extension": ".py",
   "mimetype": "text/x-python",
   "name": "python",
   "nbconvert_exporter": "python",
   "pygments_lexer": "ipython3",
   "version": "3.7.6"
  }
 },
 "nbformat": 4,
 "nbformat_minor": 4
}
