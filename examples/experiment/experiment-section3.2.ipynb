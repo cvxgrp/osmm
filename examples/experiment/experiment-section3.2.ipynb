{
 "cells": [
  {
   "cell_type": "code",
   "execution_count": 1,
   "metadata": {},
   "outputs": [
    {
     "name": "stdout",
     "output_type": "stream",
     "text": [
      "device = cpu\n"
     ]
    }
   ],
   "source": [
    "# import os\n",
    "# os.environ['CUDA_VISIBLE_DEVICES']='1'\n",
    "\n",
    "solver = \"ECOS\"\n",
    "save_data = False\n",
    "\n",
    "from kelly_gambling import *\n",
    "dataset = \"kelly\"\n",
    "\n",
    "from osmm import OSMM\n",
    "import pickle\n",
    "import datetime"
   ]
  },
  {
   "cell_type": "code",
   "execution_count": 2,
   "metadata": {},
   "outputs": [],
   "source": [
    "max_num_rounds = 100"
   ]
  },
  {
   "cell_type": "code",
   "execution_count": 3,
   "metadata": {},
   "outputs": [],
   "source": [
    "alg_props = {    \n",
    "    \"r=0, M=1\": [0, 0, 1],\n",
    "    \"r=0, M=20\": [1, 0, 20],\n",
    "    \"r=0, M=50\": [2, 0, 50],\n",
    "    \"r=20, M=1\": [3, 20, 1],\n",
    "    \"r=20, M=20\": [4, 20, 20],\n",
    "    \"r=20, M=50\": [5, 20, 50],\n",
    "    \"r=50, M=1\": [6, 50, 1],\n",
    "    \"r=50, M=20\": [7, 50, 20],\n",
    "    \"r=50, M=50\": [8, 50, 50],\n",
    "}\n",
    "    \n",
    "num_algs = len(alg_props)"
   ]
  },
  {
   "cell_type": "code",
   "execution_count": 4,
   "metadata": {},
   "outputs": [],
   "source": [
    "# Define structs:\n",
    "objfs = np.zeros((num_algs, max_num_rounds))\n",
    "objfs_validation = np.zeros((num_algs, max_num_rounds))\n",
    "runtimes = np.zeros((num_algs, max_num_rounds))\n",
    "iters_takens = np.zeros(num_algs)\n",
    "damping_facs = np.ones((num_algs, max_num_rounds))\n",
    "mus = np.ones((num_algs, max_num_rounds))\n",
    "ts = np.ones((num_algs, max_num_rounds))\n",
    "Xs = np.zeros((n, num_algs, max_num_rounds))\n",
    "lower_bounds = np.ones((num_algs, max_num_rounds)) * (-np.inf)\n",
    "best_xs = np.zeros((n, num_algs))\n",
    "v_norms = np.zeros((num_algs, max_num_rounds))\n",
    "num_f_evals = np.zeros((num_algs, max_num_rounds))\n",
    "rms_residuals = np.zeros((num_algs, max_num_rounds))\n",
    "q_norms = np.zeros((num_algs, max_num_rounds))\n",
    "f_grad_norms = np.zeros((num_algs, max_num_rounds))\n",
    "time_cost_details = np.zeros((5, num_algs, max_num_rounds))\n",
    "baseline_opt_objf = []\n",
    "baseline_time_cost = []"
   ]
  },
  {
   "cell_type": "code",
   "execution_count": 6,
   "metadata": {},
   "outputs": [
    {
     "name": "stdout",
     "output_type": "stream",
     "text": [
      "dataset = kelly:\n",
      "End generate data\n"
     ]
    }
   ],
   "source": [
    "print(\"dataset = %s:\" % (dataset))\n",
    "W = generate_random_data()\n",
    "W_validation = None\n",
    "print(\"End generate data\")"
   ]
  },
  {
   "cell_type": "code",
   "execution_count": 7,
   "metadata": {},
   "outputs": [],
   "source": [
    "osmm_prob = OSMM()\n",
    "osmm_prob.f_torch.function = my_f_torch\n",
    "osmm_prob.f_torch.W = W\n",
    "osmm_prob.f_torch.W_validate = W_validation\n",
    "osmm_prob.g_cvxpy.variable = g_var\n",
    "osmm_prob.g_cvxpy.objective = g_obj\n",
    "osmm_prob.g_cvxpy.constraints = g_constr"
   ]
  },
  {
   "cell_type": "code",
   "execution_count": 9,
   "metadata": {},
   "outputs": [
    {
     "name": "stdout",
     "output_type": "stream",
     "text": [
      "    r=0, M=1:\n",
      "iter = 10, objf = -8.081e-02, lower bound = -9.011e-02, RMS residual = 1.307e-03, ||G||_F = 0.000e+00\n",
      "iter = 20, objf = -8.131e-02, lower bound = -8.798e-02, RMS residual = 7.300e-04, ||G||_F = 0.000e+00\n",
      "iter = 30, objf = -8.175e-02, lower bound = -8.558e-02, RMS residual = 5.802e-04, ||G||_F = 0.000e+00\n",
      "iter = 40, objf = -8.194e-02, lower bound = -8.343e-02, RMS residual = 5.289e-04, ||G||_F = 0.000e+00\n",
      "iter = 50, objf = -8.204e-02, lower bound = -8.334e-02, RMS residual = 3.330e-04, ||G||_F = 0.000e+00\n",
      "iter = 60, objf = -8.210e-02, lower bound = -8.334e-02, RMS residual = 3.893e-04, ||G||_F = 0.000e+00\n",
      "iter = 70, objf = -8.213e-02, lower bound = -8.263e-02, RMS residual = 1.499e-05, ||G||_F = 0.000e+00\n",
      "iter = 80, objf = -8.213e-02, lower bound = -8.218e-02, RMS residual = 6.820e-06, ||G||_F = 0.000e+00\n",
      "iter = 90, objf = -8.213e-02, lower bound = -8.218e-02, RMS residual = 3.525e-06, ||G||_F = 0.000e+00\n",
      "      Terminated. Num iterations = 99, objf = -8.213e-02, lower bound = -8.218e-02, RMS residual = 2.910e-06.\n",
      "      Time elapsed (secs): 3.680941.\n",
      "\n",
      "\n",
      "    r=0, M=20:\n",
      "iter = 10, objf = -8.102e-02, lower bound = -8.681e-02, RMS residual = 2.548e-03, ||G||_F = 0.000e+00\n",
      "iter = 20, objf = -8.155e-02, lower bound = -8.392e-02, RMS residual = 2.268e-03, ||G||_F = 0.000e+00\n",
      "iter = 30, objf = -8.175e-02, lower bound = -8.357e-02, RMS residual = 1.586e-03, ||G||_F = 0.000e+00\n",
      "iter = 40, objf = -8.198e-02, lower bound = -8.288e-02, RMS residual = 8.721e-04, ||G||_F = 0.000e+00\n",
      "iter = 50, objf = -8.208e-02, lower bound = -8.241e-02, RMS residual = 4.460e-04, ||G||_F = 0.000e+00\n",
      "iter = 60, objf = -8.213e-02, lower bound = -8.215e-02, RMS residual = 1.045e-04, ||G||_F = 0.000e+00\n",
      "iter = 70, objf = -8.213e-02, lower bound = -8.213e-02, RMS residual = 4.101e-06, ||G||_F = 0.000e+00\n"
     ]
    },
    {
     "name": "stderr",
     "output_type": "stream",
     "text": [
      "/Users/xinyueshen/anaconda3/lib/python3.7/site-packages/cvxpy/problems/problem.py:1268: UserWarning: Solution may be inaccurate. Try another solver, adjusting the solver settings, or solve with verbose=True for more information.\n",
      "  \"Solution may be inaccurate. Try another solver, \"\n"
     ]
    },
    {
     "name": "stdout",
     "output_type": "stream",
     "text": [
      "iter = 80, objf = -8.213e-02, lower bound = -8.213e-02, RMS residual = 2.680e-06, ||G||_F = 0.000e+00\n",
      "iter = 90, objf = -8.213e-02, lower bound = -8.213e-02, RMS residual = 3.726e-06, ||G||_F = 0.000e+00\n",
      "      Terminated. Num iterations = 99, objf = -8.213e-02, lower bound = -8.213e-02, RMS residual = 2.238e-06.\n",
      "      Time elapsed (secs): 7.129452.\n",
      "\n",
      "\n",
      "    r=0, M=50:\n",
      "iter = 10, objf = -8.098e-02, lower bound = -8.684e-02, RMS residual = 2.247e-03, ||G||_F = 0.000e+00\n",
      "iter = 20, objf = -8.149e-02, lower bound = -8.400e-02, RMS residual = 2.239e-03, ||G||_F = 0.000e+00\n",
      "iter = 30, objf = -8.193e-02, lower bound = -8.282e-02, RMS residual = 1.286e-03, ||G||_F = 0.000e+00\n",
      "iter = 40, objf = -8.208e-02, lower bound = -8.229e-02, RMS residual = 5.992e-04, ||G||_F = 0.000e+00\n",
      "iter = 50, objf = -8.213e-02, lower bound = -8.217e-02, RMS residual = 1.279e-04, ||G||_F = 0.000e+00\n",
      "iter = 60, objf = -8.213e-02, lower bound = -8.213e-02, RMS residual = 1.991e-05, ||G||_F = 0.000e+00\n",
      "iter = 70, objf = -8.213e-02, lower bound = -8.213e-02, RMS residual = 5.610e-06, ||G||_F = 0.000e+00\n",
      "iter = 80, objf = -8.213e-02, lower bound = -8.213e-02, RMS residual = 5.240e-06, ||G||_F = 0.000e+00\n",
      "iter = 90, objf = -8.213e-02, lower bound = -8.213e-02, RMS residual = 5.564e-06, ||G||_F = 0.000e+00\n",
      "      Terminated. Num iterations = 99, objf = -8.213e-02, lower bound = -8.213e-02, RMS residual = 6.728e-06.\n",
      "      Time elapsed (secs): 15.272869.\n",
      "\n",
      "\n",
      "    r=20, M=1:\n",
      "iter = 10, objf = -8.205e-02, lower bound = -8.752e-02, RMS residual = 1.477e-03, ||G||_F = 1.861e+01\n",
      "iter = 20, objf = -8.213e-02, lower bound = -8.322e-02, RMS residual = 1.094e-04, ||G||_F = 2.027e+01\n",
      "iter = 30, objf = -8.213e-02, lower bound = -8.235e-02, RMS residual = 5.092e-05, ||G||_F = 8.747e+00\n",
      "iter = 40, objf = -8.213e-02, lower bound = -8.234e-02, RMS residual = 2.517e-05, ||G||_F = 8.667e+00\n",
      "iter = 50, objf = -8.213e-02, lower bound = -8.220e-02, RMS residual = 1.192e-05, ||G||_F = 8.711e+00\n",
      "iter = 60, objf = -8.213e-02, lower bound = -8.215e-02, RMS residual = 2.378e-06, ||G||_F = 8.697e+00\n",
      "iter = 70, objf = -8.213e-02, lower bound = -8.214e-02, RMS residual = 6.249e-07, ||G||_F = 8.682e+00\n",
      "iter = 80, objf = -8.213e-02, lower bound = -8.214e-02, RMS residual = 5.577e-07, ||G||_F = 8.682e+00\n",
      "iter = 90, objf = -8.213e-02, lower bound = -8.213e-02, RMS residual = 3.058e-07, ||G||_F = 8.682e+00\n",
      "      Terminated. Num iterations = 99, objf = -8.213e-02, lower bound = -8.213e-02, RMS residual = 2.175e-07.\n",
      "      Time elapsed (secs): 6.945045.\n",
      "\n",
      "\n",
      "    r=20, M=20:\n",
      "iter = 10, objf = -8.204e-02, lower bound = -8.280e-02, RMS residual = 1.483e-03, ||G||_F = 1.860e+01\n",
      "iter = 20, objf = -8.213e-02, lower bound = -8.232e-02, RMS residual = 1.109e-04, ||G||_F = 2.023e+01\n",
      "iter = 30, objf = -8.213e-02, lower bound = -8.217e-02, RMS residual = 5.055e-05, ||G||_F = 8.738e+00\n",
      "iter = 40, objf = -8.213e-02, lower bound = -8.217e-02, RMS residual = 1.522e-06, ||G||_F = 8.677e+00\n",
      "iter = 50, objf = -8.213e-02, lower bound = -8.217e-02, RMS residual = 1.006e-05, ||G||_F = 8.680e+00\n",
      "iter = 60, objf = -8.213e-02, lower bound = -8.216e-02, RMS residual = 7.656e-06, ||G||_F = 8.660e+00\n",
      "iter = 70, objf = -8.213e-02, lower bound = -8.214e-02, RMS residual = 3.456e-06, ||G||_F = 8.635e+00\n",
      "iter = 80, objf = -8.213e-02, lower bound = -8.214e-02, RMS residual = 3.118e-06, ||G||_F = 8.669e+00\n",
      "iter = 90, objf = -8.213e-02, lower bound = -8.213e-02, RMS residual = 6.947e-07, ||G||_F = 8.760e+00\n",
      "      Terminated. Num iterations = 99, objf = -8.213e-02, lower bound = -8.213e-02, RMS residual = 1.440e-06.\n",
      "      Time elapsed (secs): 12.075503.\n",
      "\n",
      "\n",
      "    r=20, M=50:\n",
      "iter = 10, objf = -8.204e-02, lower bound = -8.285e-02, RMS residual = 1.257e-03, ||G||_F = 1.858e+01\n",
      "iter = 20, objf = -8.213e-02, lower bound = -8.229e-02, RMS residual = 1.927e-04, ||G||_F = 2.014e+01\n",
      "iter = 30, objf = -8.213e-02, lower bound = -8.218e-02, RMS residual = 8.122e-05, ||G||_F = 8.766e+00\n",
      "iter = 40, objf = -8.213e-02, lower bound = -8.215e-02, RMS residual = 3.858e-05, ||G||_F = 8.704e+00\n",
      "iter = 50, objf = -8.213e-02, lower bound = -8.214e-02, RMS residual = 1.100e-05, ||G||_F = 8.647e+00\n",
      "iter = 60, objf = -8.213e-02, lower bound = -8.213e-02, RMS residual = 6.253e-06, ||G||_F = 8.726e+00\n",
      "iter = 70, objf = -8.213e-02, lower bound = -8.213e-02, RMS residual = 1.882e-06, ||G||_F = 8.728e+00\n",
      "lower bound problem error: Solver 'ECOS' failed. Try another solver, or solve with verbose=True for more information.\n",
      "iter = 80, objf = -8.213e-02, lower bound = -8.213e-02, RMS residual = 1.454e-06, ||G||_F = 8.743e+00\n",
      "iter = 90, objf = -8.213e-02, lower bound = -8.213e-02, RMS residual = 1.202e-06, ||G||_F = 8.743e+00\n",
      "      Terminated. Num iterations = 99, objf = -8.213e-02, lower bound = -8.213e-02, RMS residual = 1.050e-06.\n",
      "      Time elapsed (secs): 22.577173.\n",
      "\n",
      "\n",
      "    r=50, M=1:\n",
      "iter = 10, objf = -8.205e-02, lower bound = -8.792e-02, RMS residual = 9.536e-04, ||G||_F = 1.896e+01\n",
      "iter = 20, objf = -8.213e-02, lower bound = -8.255e-02, RMS residual = 1.172e-04, ||G||_F = 2.051e+01\n",
      "iter = 30, objf = -8.213e-02, lower bound = -8.216e-02, RMS residual = 3.557e-05, ||G||_F = 3.063e+01\n",
      "iter = 40, objf = -8.213e-02, lower bound = -8.216e-02, RMS residual = 1.334e-04, ||G||_F = 2.368e+01\n",
      "iter = 50, objf = -8.213e-02, lower bound = -8.216e-02, RMS residual = 2.174e-05, ||G||_F = 2.547e+01\n",
      "iter = 60, objf = -8.213e-02, lower bound = -8.214e-02, RMS residual = 3.736e-06, ||G||_F = 2.327e+01\n",
      "iter = 70, objf = -8.213e-02, lower bound = -8.214e-02, RMS residual = 3.092e-06, ||G||_F = 2.365e+01\n",
      "iter = 80, objf = -8.213e-02, lower bound = -8.213e-02, RMS residual = 4.836e-07, ||G||_F = 2.369e+01\n",
      "iter = 90, objf = -8.213e-02, lower bound = -8.213e-02, RMS residual = 4.479e-07, ||G||_F = 2.369e+01\n",
      "      Terminated. Num iterations = 99, objf = -8.213e-02, lower bound = -8.213e-02, RMS residual = 2.049e-07.\n",
      "      Time elapsed (secs): 9.573627.\n",
      "\n",
      "\n",
      "    r=50, M=20:\n",
      "iter = 10, objf = -8.204e-02, lower bound = -8.306e-02, RMS residual = 1.232e-03, ||G||_F = 1.850e+01\n",
      "iter = 20, objf = -8.213e-02, lower bound = -8.225e-02, RMS residual = 2.596e-04, ||G||_F = 1.995e+01\n",
      "iter = 30, objf = -8.213e-02, lower bound = -8.219e-02, RMS residual = 1.533e-04, ||G||_F = 3.533e+01\n",
      "iter = 40, objf = -8.213e-02, lower bound = -8.219e-02, RMS residual = 1.145e-04, ||G||_F = 5.105e+01\n",
      "iter = 50, objf = -8.213e-02, lower bound = -8.219e-02, RMS residual = 2.462e-05, ||G||_F = 2.501e+01\n",
      "iter = 60, objf = -8.213e-02, lower bound = -8.214e-02, RMS residual = 2.871e-06, ||G||_F = 2.744e+01\n",
      "iter = 70, objf = -8.213e-02, lower bound = -8.214e-02, RMS residual = 4.229e-06, ||G||_F = 2.499e+01\n",
      "iter = 80, objf = -8.213e-02, lower bound = -8.214e-02, RMS residual = 5.039e-06, ||G||_F = 2.506e+01\n",
      "iter = 90, objf = -8.213e-02, lower bound = -8.214e-02, RMS residual = 5.469e-06, ||G||_F = 2.539e+01\n",
      "      Terminated. Num iterations = 99, objf = -8.213e-02, lower bound = -8.214e-02, RMS residual = 2.861e-06.\n",
      "      Time elapsed (secs): 17.028006.\n",
      "\n",
      "\n",
      "    r=50, M=50:\n",
      "iter = 10, objf = -8.203e-02, lower bound = -8.308e-02, RMS residual = 1.408e-03, ||G||_F = 1.858e+01\n",
      "iter = 20, objf = -8.213e-02, lower bound = -8.226e-02, RMS residual = 2.116e-04, ||G||_F = 2.008e+01\n",
      "iter = 30, objf = -8.213e-02, lower bound = -8.217e-02, RMS residual = 1.778e-04, ||G||_F = 2.737e+01\n",
      "iter = 40, objf = -8.213e-02, lower bound = -8.216e-02, RMS residual = 3.103e-04, ||G||_F = 3.125e+01\n",
      "iter = 50, objf = -8.213e-02, lower bound = -8.214e-02, RMS residual = 1.150e-05, ||G||_F = 2.822e+01\n",
      "iter = 60, objf = -8.213e-02, lower bound = -8.214e-02, RMS residual = 1.708e-05, ||G||_F = 2.860e+01\n",
      "iter = 70, objf = -8.213e-02, lower bound = -8.214e-02, RMS residual = 5.648e-06, ||G||_F = 1.385e+01\n",
      "iter = 80, objf = -8.213e-02, lower bound = -8.214e-02, RMS residual = 6.054e-06, ||G||_F = 2.077e+01\n",
      "iter = 90, objf = -8.213e-02, lower bound = -8.214e-02, RMS residual = 1.972e-06, ||G||_F = 1.335e+01\n",
      "      Terminated. Num iterations = 99, objf = -8.213e-02, lower bound = -8.214e-02, RMS residual = 5.382e-06.\n",
      "      Time elapsed (secs): 29.635570.\n",
      "\n",
      "\n"
     ]
    }
   ],
   "source": [
    "for alg_name in alg_props:\n",
    "    print(\"    \" + alg_name + \":\")\n",
    "    alg_idx = alg_props[alg_name][0]\n",
    "    H_rank = alg_props[alg_name][1]\n",
    "    M = alg_props[alg_name][2]\n",
    "        \n",
    "    osmm_prob.solve(init_val, max_iter=max_num_rounds, \n",
    "                    hessian_rank=H_rank, gradient_memory=M,\n",
    "                    solver=solver, use_termination_criteria=False, verbose=True)\n",
    "\n",
    "    Xs[:, alg_idx, :] = osmm_prob.method_results[\"var_iters\"]\n",
    "    objfs[alg_idx, :] = osmm_prob.method_results[\"objf_iters\"]\n",
    "    objfs_validation[alg_idx, :] = osmm_prob.method_results[\"objf_validate_iters\"]\n",
    "    lower_bounds[alg_idx, :] = osmm_prob.method_results[\"lower_bound_iters\"]\n",
    "    damping_facs[alg_idx, :] = osmm_prob.method_results[\"lam_iters\"]\n",
    "    mus[alg_idx, :] = osmm_prob.method_results[\"mu_iters\"]\n",
    "    ts[alg_idx, :] = osmm_prob.method_results[\"t_iters\"]\n",
    "    runtimes[alg_idx, :] = osmm_prob.method_results[\"time_iters\"]\n",
    "    best_xs[:, alg_idx] = osmm_prob.method_results[\"soln\"]\n",
    "    v_norms[alg_idx, :] = osmm_prob.method_results[\"v_norm_iters\"]\n",
    "    num_f_evals[alg_idx, :] = osmm_prob.method_results[\"num_f_evals_iters\"]\n",
    "    rms_residuals[alg_idx, :] = osmm_prob.method_results[\"rms_res_iters\"]\n",
    "    f_grad_norms[alg_idx, :] = osmm_prob.method_results[\"f_grad_norm_iters\"]\n",
    "    q_norms[alg_idx, :] = osmm_prob.method_results[\"q_norm_iters\"]\n",
    "    time_cost_details[:, alg_idx, :] = osmm_prob.method_results[\"time_detail_iters\"]\n",
    "    iters_takens[alg_idx] = osmm_prob.method_results[\"total_iters\"]\n",
    "    print(\"\")"
   ]
  },
  {
   "cell_type": "code",
   "execution_count": 10,
   "metadata": {},
   "outputs": [
    {
     "name": "stdout",
     "output_type": "stream",
     "text": [
      "W shape = (1001, 1000)\n",
      "log10 N = 3.0 , n = 1000\n"
     ]
    }
   ],
   "source": [
    "print(\"W shape =\", W.shape)\n",
    "_, N = W.shape\n",
    "print(\"log10 N =\", np.log10(N), \", n =\", n)"
   ]
  },
  {
   "cell_type": "code",
   "execution_count": 11,
   "metadata": {},
   "outputs": [],
   "source": [
    "stuff = {}\n",
    "stuff[\"objfs\"] = objfs\n",
    "stuff[\"objfs_validation\"] = objfs_validation\n",
    "stuff[\"lower_bounds\"] = lower_bounds\n",
    "stuff[\"runtimes\"] = runtimes\n",
    "stuff[\"rms_residuals\"] = rms_residuals\n",
    "stuff[\"f_grad_norms\"] = f_grad_norms\n",
    "stuff[\"q_norms\"] = q_norms\n",
    "stuff[\"damping_facs\"] = damping_facs\n",
    "stuff[\"ts\"] = ts\n",
    "stuff[\"Xs\"] = Xs\n",
    "stuff[\"best_xs\"] = best_xs\n",
    "stuff[\"v_norms\"] = v_norms\n",
    "stuff[\"num_f_evals\"] = num_f_evals\n",
    "stuff[\"iters_takens\"] = iters_takens\n",
    "stuff[\"time_cost_details\"] = time_cost_details\n",
    "stuff[\"alg_props\"] = list(alg_props.keys())\n",
    "\n",
    "stuff[\"baseline_opt_objf\"] = baseline_opt_objf\n",
    "stuff[\"baseline_time_cost\"] = baseline_time_cost\n",
    "now = datetime.datetime.now()\n",
    "mmddyyhhmm = (\"%d_%d_%d_%d_%d\" % (now.month, now.day, now.year, now.hour, now.minute))\n",
    "part_of_out_fn = dataset + \"\" + mmddyyhhmm"
   ]
  },
  {
   "cell_type": "code",
   "execution_count": 12,
   "metadata": {},
   "outputs": [],
   "source": [
    "if save_data:\n",
    "    pickle.dump(stuff, open(\"ECOS_data_%s.pkl\" % (part_of_out_fn), \"wb\"))"
   ]
  },
  {
   "cell_type": "code",
   "execution_count": 13,
   "metadata": {},
   "outputs": [
    {
     "name": "stderr",
     "output_type": "stream",
     "text": [
      "/Users/xinyueshen/Documents/research/osmm/examples/experiment/kelly_gambling.py:126: UserWarning: In Matplotlib 3.3 individual lines on a stem plot will be added as a LineCollection instead of individual lines. This significantly improves the performance of a stem plot. To remove this warning and switch to the new behaviour, set the \"use_line_collection\" keyword argument to True.\n",
      "  b.stem([i for i in range(n)], x_best, markerfmt=' ')\n"
     ]
    },
    {
     "name": "stdout",
     "output_type": "stream",
     "text": [
      "mean 0.0821303275274919 1.0855972838202232\n"
     ]
    },
    {
     "data": {
      "image/png": "[encoded data removed]",
      "text/plain": [
       "<Figure size 864x432 with 2 Axes>"
      ]
     },
     "metadata": {
      "needs_background": "light"
     },
     "output_type": "display_data"
    }
   ],
   "source": [
    "my_plot_one_result(W, best_xs[:, 0])"
   ]
  },
  {
   "cell_type": "markdown",
   "metadata": {},
   "source": [
    "## timing results"
   ]
  },
  {
   "cell_type": "code",
   "execution_count": 14,
   "metadata": {},
   "outputs": [],
   "source": [
    "eps_gap_rel = 1e-3\n",
    "eps_res_abs = 1e-4\n",
    "eps_res_rel = 1e-3"
   ]
  },
  {
   "cell_type": "code",
   "execution_count": 18,
   "metadata": {},
   "outputs": [
    {
     "name": "stdout",
     "output_type": "stream",
     "text": [
      "iteration at which a stopping condition holds [80, 67]\n",
      "alg_idx = 0 , solve time (stopping criteria) =  2.3 , iterations= 67 , f evals= 5.3\n",
      "iteration at which a stopping condition holds [60, 53]\n",
      "alg_idx = 1 , solve time (stopping criteria) =  3.7 , iterations= 53 , f evals= 5\n",
      "iteration at which a stopping condition holds [44, 67]\n",
      "alg_idx = 2 , solve time (stopping criteria) =  6.3 , iterations= 44 , f evals= 4.6\n",
      "iteration at which a stopping condition holds [50, 17]\n",
      "alg_idx = 3 , solve time (stopping criteria) =  0.85 , iterations= 17 , f evals= 2.1\n",
      "iteration at which a stopping condition holds [30, 17]\n",
      "alg_idx = 4 , solve time (stopping criteria) =  1.4 , iterations= 17 , f evals= 2.1\n",
      "iteration at which a stopping condition holds [20, 18]\n",
      "alg_idx = 5 , solve time (stopping criteria) =  2.6 , iterations= 18 , f evals= 2\n",
      "iteration at which a stopping condition holds [30, 20]\n",
      "alg_idx = 6 , solve time (stopping criteria) =  1.1 , iterations= 20 , f evals= 2.2\n",
      "iteration at which a stopping condition holds [20, 17]\n",
      "alg_idx = 7 , solve time (stopping criteria) =  1.5 , iterations= 17 , f evals= 1.9\n",
      "iteration at which a stopping condition holds [20, 17]\n",
      "alg_idx = 8 , solve time (stopping criteria) =  2.8 , iterations= 17 , f evals= 1.9\n"
     ]
    }
   ],
   "source": [
    "for alg_idx in range(len(alg_props)):\n",
    "    stop_iters = [max_num_rounds] * 2\n",
    "    for i in range(10, max_num_rounds):\n",
    "        if objfs[alg_idx, i] < np.inf and \\\n",
    "        objfs[alg_idx, i] - lower_bounds[alg_idx, i] <= 1e-4 + eps_gap_rel * np.abs(objfs[alg_idx, i]):\n",
    "            stop_iters[0] = min(i, stop_iters[0])\n",
    "        if ts[alg_idx, i] == 1 and \\\n",
    "        rms_residuals[alg_idx, i] <= eps_res_abs + eps_res_rel * (q_norms[alg_idx, i] + f_grad_norms[alg_idx, i]) / np.sqrt(n):\n",
    "            stop_iters[1] = min(i, stop_iters[1])\n",
    "        if max(stop_iters) < max_num_rounds:\n",
    "            break\n",
    "    print(\"iteration at which a stopping condition holds\", stop_iters)\n",
    "    stop_iter = min(stop_iters)\n",
    "    solve_time = np.sum(runtimes[alg_idx, 0:np.min(stop_iters) + 1])\n",
    "    f_evals = np.mean(num_f_evals[alg_idx, 1:np.min(stop_iters) + 1], axis=0)\n",
    "    print(\"alg_idx =\", alg_idx, \", solve time (stopping criteria) = \", '{:g}'.format(float('{:.2g}'.format(solve_time))),\n",
    "    \", iterations=\", np.min(stop_iters), \", f evals=\", '{:g}'.format(float('{:.2g}'.format(f_evals))))"
   ]
  },
  {
   "cell_type": "code",
   "execution_count": 16,
   "metadata": {},
   "outputs": [
    {
     "name": "stdout",
     "output_type": "stream",
     "text": [
      "iters to reach 1e-6 subopt =  68\n",
      "solve time to reach 1e-6 subopt =  2.3495378494262695\n",
      "f evals 5.3088235294117645\n",
      "iters to reach 1e-6 subopt =  61\n",
      "solve time to reach 1e-6 subopt =  4.225165605545044\n",
      "f evals 4.639344262295082\n",
      "iters to reach 1e-6 subopt =  53\n",
      "solve time to reach 1e-6 subopt =  7.490316152572632\n",
      "f evals 4.39622641509434\n",
      "iters to reach 1e-6 subopt =  21\n",
      "solve time to reach 1e-6 subopt =  1.1174595355987549\n",
      "f evals 2.0\n",
      "iters to reach 1e-6 subopt =  21\n",
      "solve time to reach 1e-6 subopt =  1.789325475692749\n",
      "f evals 2.0\n",
      "iters to reach 1e-6 subopt =  27\n",
      "solve time to reach 1e-6 subopt =  4.393423318862915\n",
      "f evals 2.7777777777777777\n",
      "iters to reach 1e-6 subopt =  19\n",
      "solve time to reach 1e-6 subopt =  1.0610125064849854\n",
      "f evals 2.3157894736842106\n",
      "iters to reach 1e-6 subopt =  23\n",
      "solve time to reach 1e-6 subopt =  2.207807779312134\n",
      "f evals 1.7826086956521738\n",
      "iters to reach 1e-6 subopt =  24\n",
      "solve time to reach 1e-6 subopt =  4.34599757194519\n",
      "f evals 1.6666666666666667\n"
     ]
    }
   ],
   "source": [
    "ep = 1e-6\n",
    "for alg_idx in range(len(alg_props)):\n",
    "    subopt = objfs[alg_idx, :] - np.min(objfs[alg_idx, :])\n",
    "    iter_reach_ep = max_num_rounds\n",
    "    for i in range(max_num_rounds):\n",
    "        if subopt[i] <= ep:\n",
    "            iter_reach_ep = i\n",
    "            break\n",
    "    f_evals = np.mean(num_f_evals[alg_idx, 1:iter_reach_ep + 1], axis=0)\n",
    "    print(\"iters to reach 1e-6 subopt = \", iter_reach_ep)\n",
    "    print(\"solve time to reach 1e-6 subopt = \", np.sum(runtimes[alg_idx, 0:iter_reach_ep + 1]))\n",
    "    print(\"f evals\", f_evals)"
   ]
  },
  {
   "cell_type": "code",
   "execution_count": 17,
   "metadata": {},
   "outputs": [
    {
     "name": "stdout",
     "output_type": "stream",
     "text": [
      "time cost detail\n",
      "===============f======grad f====subp====L_k====\n",
      "0 ['0.0011', '0.001', '0.028', '0.0098']\n",
      "1 ['0.0024', '0.0011', '0.058', '0.053']\n",
      "2 ['0.0025', '0.0012', '0.12', '0.29']\n",
      "3 ['0.0023', '0.0011', '0.059', '0.011']\n",
      "4 ['0.0023', '0.0012', '0.11', '0.056']\n",
      "5 ['0.0025', '0.0011', '0.19', '0.35']\n",
      "6 ['0.0026', '0.0011', '0.085', '0.012']\n",
      "7 ['0.0025', '0.0013', '0.16', '0.056']\n",
      "8 ['0.0025', '0.0011', '0.27', '0.23']\n"
     ]
    }
   ],
   "source": [
    "# mean_time_details = np.mean(time_cost_details, axis=3)\n",
    "print(\"time cost detail\")\n",
    "print(\"===============f======grad f====subp====L_k====\")\n",
    "for alg_idx in range(len(alg_props)):\n",
    "    f_eval = np.mean(time_cost_details[0, alg_idx, 1::])\n",
    "    f_grad_eval = np.mean(time_cost_details[1, alg_idx, 1::])\n",
    "    subp_ave = np.mean(time_cost_details[2, alg_idx, 2::])\n",
    "    subp_first = time_cost_details[2, alg_idx, 1]\n",
    "    L_k_ave = np.mean(time_cost_details[3, alg_idx, 20:100:10])\n",
    "    L_k_first = time_cost_details[3, alg_idx, 10]\n",
    "    print_results = [f_eval, f_grad_eval, subp_ave, L_k_ave]\n",
    "    print(alg_idx, ['{:g}'.format(float('{:.2g}'.format(print_results[i]))) for i in range(4)])"
   ]
  },
  {
   "cell_type": "code",
   "execution_count": null,
   "metadata": {},
   "outputs": [],
   "source": []
  }
 ],
 "metadata": {
  "kernelspec": {
   "display_name": "Python 3",
   "language": "python",
   "name": "python3"
  },
  "language_info": {
   "codemirror_mode": {
    "name": "ipython",
    "version": 3
   },
   "file_extension": ".py",
   "mimetype": "text/x-python",
   "name": "python",
   "nbconvert_exporter": "python",
   "pygments_lexer": "ipython3",
   "version": "3.7.6"
  }
 },
 "nbformat": 4,
 "nbformat_minor": 4
}
