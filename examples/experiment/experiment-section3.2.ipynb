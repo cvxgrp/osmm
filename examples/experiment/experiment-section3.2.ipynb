{
 "cells": [
  {
   "cell_type": "code",
   "execution_count": null,
   "metadata": {},
   "outputs": [],
   "source": [
    "# import os\n",
    "# os.environ['CUDA_VISIBLE_DEVICES']='1'\n",
    "\n",
    "solver = \"ECOS\"\n",
    "save_data = False\n",
    "\n",
    "from kelly_gambling import *\n",
    "dataset = \"kelly\"\n",
    "\n",
    "from osmm import OSMM\n",
    "import pickle\n",
    "import datetime"
   ]
  },
  {
   "cell_type": "code",
   "execution_count": null,
   "metadata": {},
   "outputs": [],
   "source": [
    "max_num_rounds = 100"
   ]
  },
  {
   "cell_type": "code",
   "execution_count": null,
   "metadata": {},
   "outputs": [],
   "source": [
    "alg_props = {    \n",
    "    \"r=0, M=1\": [0, 0, 1],\n",
    "    \"r=0, M=20\": [1, 0, 20],\n",
    "    \"r=0, M=50\": [2, 0, 50],\n",
    "    \"r=20, M=1\": [3, 20, 1],\n",
    "    \"r=20, M=20\": [4, 20, 20],\n",
    "    \"r=20, M=50\": [5, 20, 50],\n",
    "    \"r=50, M=1\": [6, 50, 1],\n",
    "    \"r=50, M=20\": [7, 50, 20],\n",
    "    \"r=50, M=50\": [8, 50, 50],\n",
    "}\n",
    "    \n",
    "num_algs = len(alg_props)"
   ]
  },
  {
   "cell_type": "code",
   "execution_count": null,
   "metadata": {},
   "outputs": [],
   "source": [
    "# Define structs:\n",
    "objfs = np.zeros((num_algs, max_num_rounds))\n",
    "objfs_validation = np.zeros((num_algs, max_num_rounds))\n",
    "runtimes = np.zeros((num_algs, max_num_rounds))\n",
    "iters_takens = np.zeros(num_algs)\n",
    "damping_facs = np.ones((num_algs, max_num_rounds))\n",
    "mus = np.ones((num_algs, max_num_rounds))\n",
    "ts = np.ones((num_algs, max_num_rounds))\n",
    "Xs = np.zeros((n, num_algs, max_num_rounds))\n",
    "lower_bounds = np.ones((num_algs, max_num_rounds)) * (-np.inf)\n",
    "best_xs = np.zeros((n, num_algs))\n",
    "v_norms = np.zeros((num_algs, max_num_rounds))\n",
    "num_f_evals = np.zeros((num_algs, max_num_rounds))\n",
    "rms_residuals = np.zeros((num_algs, max_num_rounds))\n",
    "q_norms = np.zeros((num_algs, max_num_rounds))\n",
    "f_grad_norms = np.zeros((num_algs, max_num_rounds))\n",
    "time_cost_details = np.zeros((4, num_algs, max_num_rounds))\n",
    "baseline_opt_objf = []\n",
    "baseline_time_cost = []"
   ]
  },
  {
   "cell_type": "code",
   "execution_count": null,
   "metadata": {},
   "outputs": [],
   "source": [
    "print(\"dataset = %s:\" % (dataset))\n",
    "W = generate_random_data()\n",
    "W_validation = None\n",
    "init = get_initial_val()\n",
    "print(\"End generate data\")"
   ]
  },
  {
   "cell_type": "code",
   "execution_count": null,
   "metadata": {},
   "outputs": [],
   "source": [
    "osmm_prob = OSMM(my_f_torch, my_g_cvxpy)\n",
    "osmm_prob.f_torch.W = W\n",
    "osmm_prob.f_torch.W_validate = W_validation"
   ]
  },
  {
   "cell_type": "code",
   "execution_count": null,
   "metadata": {},
   "outputs": [],
   "source": [
    "for alg_name in alg_props:\n",
    "    print(\"    \" + alg_name + \":\")\n",
    "    alg_idx = alg_props[alg_name][0]\n",
    "    H_rank = alg_props[alg_name][1]\n",
    "    M = alg_props[alg_name][2]\n",
    "        \n",
    "    osmm_prob.solve(init, max_iter=max_num_rounds, \n",
    "                    hessian_rank=H_rank, gradient_memory=M,\n",
    "                    solver=solver, use_termination_criteria=False, verbose=True)\n",
    "\n",
    "    Xs[:, alg_idx, :] = osmm_prob.method_results[\"var_iters\"]\n",
    "    objfs[alg_idx, :] = osmm_prob.method_results[\"objf_iters\"]\n",
    "    objfs_validation[alg_idx, :] = osmm_prob.method_results[\"objf_validate_iters\"]\n",
    "    lower_bounds[alg_idx, :] = osmm_prob.method_results[\"lower_bound_iters\"]\n",
    "    damping_facs[alg_idx, :] = osmm_prob.method_results[\"lam_iters\"]\n",
    "    mus[alg_idx, :] = osmm_prob.method_results[\"mu_iters\"]\n",
    "    ts[alg_idx, :] = osmm_prob.method_results[\"t_iters\"]\n",
    "    runtimes[alg_idx, :] = osmm_prob.method_results[\"time_iters\"]\n",
    "    best_xs[:, alg_idx] = osmm_prob.method_results[\"soln\"]\n",
    "    v_norms[alg_idx, :] = osmm_prob.method_results[\"v_norm_iters\"]\n",
    "    num_f_evals[alg_idx, :] = osmm_prob.method_results[\"num_f_evals_iters\"]\n",
    "    rms_residuals[alg_idx, :] = osmm_prob.method_results[\"rms_res_iters\"]\n",
    "    f_grad_norms[alg_idx, :] = osmm_prob.method_results[\"f_grad_norm_iters\"]\n",
    "    q_norms[alg_idx, :] = osmm_prob.method_results[\"q_norm_iters\"]\n",
    "    time_cost_details[:, alg_idx, :] = osmm_prob.method_results[\"time_detail_iters\"]\n",
    "    iters_takens[alg_idx] = osmm_prob.method_results[\"total_iters\"]\n",
    "    print(\"\")"
   ]
  },
  {
   "cell_type": "code",
   "execution_count": null,
   "metadata": {},
   "outputs": [],
   "source": [
    "print(\"W shape =\", W.shape)\n",
    "_, N = W.shape\n",
    "print(\"log10 N =\", np.log10(N), \", n =\", n)"
   ]
  },
  {
   "cell_type": "code",
   "execution_count": null,
   "metadata": {},
   "outputs": [],
   "source": [
    "stuff = {}\n",
    "stuff[\"objfs\"] = objfs\n",
    "stuff[\"objfs_validation\"] = objfs_validation\n",
    "stuff[\"lower_bounds\"] = lower_bounds\n",
    "stuff[\"runtimes\"] = runtimes\n",
    "stuff[\"rms_residuals\"] = rms_residuals\n",
    "stuff[\"f_grad_norms\"] = f_grad_norms\n",
    "stuff[\"q_norms\"] = q_norms\n",
    "stuff[\"damping_facs\"] = damping_facs\n",
    "stuff[\"ts\"] = ts\n",
    "stuff[\"Xs\"] = Xs\n",
    "stuff[\"best_xs\"] = best_xs\n",
    "stuff[\"v_norms\"] = v_norms\n",
    "stuff[\"num_f_evals\"] = num_f_evals\n",
    "stuff[\"iters_takens\"] = iters_takens\n",
    "stuff[\"time_cost_details\"] = time_cost_details\n",
    "stuff[\"alg_props\"] = list(alg_props.keys())\n",
    "\n",
    "stuff[\"baseline_opt_objf\"] = baseline_opt_objf\n",
    "stuff[\"baseline_time_cost\"] = baseline_time_cost\n",
    "now = datetime.datetime.now()\n",
    "mmddyyhhmm = (\"%d_%d_%d_%d_%d\" % (now.month, now.day, now.year, now.hour, now.minute))\n",
    "part_of_out_fn = dataset + \"\" + mmddyyhhmm"
   ]
  },
  {
   "cell_type": "code",
   "execution_count": null,
   "metadata": {},
   "outputs": [],
   "source": [
    "if save_data:\n",
    "    pickle.dump(stuff, open(\"ECOS_data_%s.pkl\" % (part_of_out_fn), \"wb\"))"
   ]
  },
  {
   "cell_type": "code",
   "execution_count": null,
   "metadata": {},
   "outputs": [],
   "source": [
    "my_plot_one_result(W, best_xs[:, 0])"
   ]
  },
  {
   "cell_type": "markdown",
   "metadata": {},
   "source": [
    "## timing results"
   ]
  },
  {
   "cell_type": "code",
   "execution_count": null,
   "metadata": {},
   "outputs": [],
   "source": [
    "eps_gap_rel = 1e-3\n",
    "eps_res_abs = 1e-4\n",
    "eps_res_rel = 1e-3"
   ]
  },
  {
   "cell_type": "code",
   "execution_count": null,
   "metadata": {},
   "outputs": [],
   "source": [
    "for alg_idx in range(len(alg_props)):\n",
    "    stop_iters = [max_num_rounds] * 2\n",
    "    for i in range(10, max_num_rounds):\n",
    "        if objfs[alg_idx, i] < np.inf and \\\n",
    "        objfs[alg_idx, i] - lower_bounds[alg_idx, i] <= np.abs(objfs[alg_idx, i] - objfs_validation[alg_idx, i]) + eps_gap_rel * np.abs(objfs[alg_idx, i]):\n",
    "            stop_iters[0] = min(i, stop_iters[0])\n",
    "        if ts[alg_idx, i] == 1 and \\\n",
    "        rms_residuals[alg_idx, i] <= eps_res_abs + eps_res_rel * (q_norms[alg_idx, i] + f_grad_norms[alg_idx, i]) / np.sqrt(n):\n",
    "            stop_iters[1] = min(i, stop_iters[1])\n",
    "        if max(stop_iters) < max_num_rounds:\n",
    "            break\n",
    "    print(\"iteration at which a stopping condition holds\", stop_iters)\n",
    "    stop_iter = min(stop_iters)\n",
    "    solve_time = np.sum(runtimes[alg_idx, 0:np.min(stop_iters) + 1])\n",
    "    f_evals = np.mean(num_f_evals[alg_idx, 1:np.min(stop_iters) + 1], axis=0)\n",
    "    print(\"alg_idx =\", alg_idx, \", solve time (stopping criteria) = \", '{:g}'.format(float('{:.2g}'.format(solve_time))),\n",
    "    \", iterations=\", np.min(stop_iters), \", f evals=\", '{:g}'.format(float('{:.2g}'.format(f_evals))))"
   ]
  },
  {
   "cell_type": "code",
   "execution_count": null,
   "metadata": {},
   "outputs": [],
   "source": [
    "ep = 1e-6\n",
    "for alg_idx in range(len(alg_props)):\n",
    "    subopt = objfs[alg_idx, :] - np.min(objfs[alg_idx, :])\n",
    "    iter_reach_ep = max_num_rounds\n",
    "    for i in range(max_num_rounds):\n",
    "        if subopt[i] <= ep:\n",
    "            iter_reach_ep = i\n",
    "            break\n",
    "    f_evals = np.mean(num_f_evals[alg_idx, 1:iter_reach_ep + 1], axis=0)\n",
    "    print(\"iters to reach 1e-6 subopt = \", iter_reach_ep)\n",
    "    print(\"solve time to reach 1e-6 subopt = \", np.sum(runtimes[alg_idx, 0:iter_reach_ep + 1]))\n",
    "    print(\"f evals\", f_evals)"
   ]
  },
  {
   "cell_type": "code",
   "execution_count": null,
   "metadata": {},
   "outputs": [],
   "source": [
    "# mean_time_details = np.mean(time_cost_details, axis=3)\n",
    "print(\"time cost detail\")\n",
    "print(\"===============f======grad f====subp====L_k====\")\n",
    "for alg_idx in range(len(alg_props)):\n",
    "    f_eval = np.mean(time_cost_details[0, alg_idx, 1::])\n",
    "    f_grad_eval = np.mean(time_cost_details[1, alg_idx, 1::])\n",
    "    subp_ave = np.mean(time_cost_details[2, alg_idx, 2::])\n",
    "    subp_first = time_cost_details[2, alg_idx, 1]\n",
    "    L_k_ave = np.mean(time_cost_details[3, alg_idx, 20:100:10])\n",
    "    L_k_first = time_cost_details[3, alg_idx, 10]\n",
    "    print_results = [f_eval, f_grad_eval, subp_ave, L_k_ave]\n",
    "    print(alg_idx, ['{:g}'.format(float('{:.2g}'.format(print_results[i]))) for i in range(4)])"
   ]
  },
  {
   "cell_type": "code",
   "execution_count": null,
   "metadata": {},
   "outputs": [],
   "source": []
  }
 ],
 "metadata": {
  "kernelspec": {
   "display_name": "Python 3",
   "language": "python",
   "name": "python3"
  },
  "language_info": {
   "codemirror_mode": {
    "name": "ipython",
    "version": 3
   },
   "file_extension": ".py",
   "mimetype": "text/x-python",
   "name": "python",
   "nbconvert_exporter": "python",
   "pygments_lexer": "ipython3",
   "version": "3.7.6"
  }
 },
 "nbformat": 4,
 "nbformat_minor": 4
}
