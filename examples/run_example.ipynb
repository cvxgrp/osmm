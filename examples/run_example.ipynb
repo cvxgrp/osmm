{
 "cells": [
  {
   "cell_type": "markdown",
   "metadata": {},
   "source": [
    "## dataset functions"
   ]
  },
  {
   "cell_type": "code",
   "execution_count": 1,
   "metadata": {},
   "outputs": [
    {
     "name": "stdout",
     "output_type": "stream",
     "text": [
      "device = cpu\n"
     ]
    }
   ],
   "source": [
    "# dataset = \"exp_density\"\n",
    "# from exp_density_polynomial import *\n",
    "# dataset = \"cvar\"\n",
    "# from cvar import *\n",
    "# dataset = \"energy\"\n",
    "# from energy import *\n",
    "dataset = \"kelly\"\n",
    "from kelly import *\n",
    "# dataset = \"news_vendor\"\n",
    "# from news_vendor import *"
   ]
  },
  {
   "cell_type": "markdown",
   "metadata": {},
   "source": [
    "## osmm"
   ]
  },
  {
   "cell_type": "code",
   "execution_count": 2,
   "metadata": {},
   "outputs": [],
   "source": [
    "from osmm import OSMM"
   ]
  },
  {
   "cell_type": "markdown",
   "metadata": {},
   "source": [
    "## generate random data"
   ]
  },
  {
   "cell_type": "code",
   "execution_count": 3,
   "metadata": {},
   "outputs": [],
   "source": [
    "W = generate_random_data()\n",
    "W_validation = generate_random_data()\n",
    "init_val = get_initial_val()"
   ]
  },
  {
   "cell_type": "markdown",
   "metadata": {},
   "source": [
    "## solve"
   ]
  },
  {
   "cell_type": "code",
   "execution_count": 4,
   "metadata": {},
   "outputs": [
    {
     "ename": "TypeError",
     "evalue": "'method' object is not iterable",
     "output_type": "error",
     "traceback": [
      "\u001b[0;31m---------------------------------------------------------------------------\u001b[0m",
      "\u001b[0;31mTypeError\u001b[0m                                 Traceback (most recent call last)",
      "\u001b[0;32m<ipython-input-4-3ac7b1403f69>\u001b[0m in \u001b[0;36m<module>\u001b[0;34m\u001b[0m\n\u001b[0;32m----> 1\u001b[0;31m \u001b[0mosmm_prob\u001b[0m \u001b[0;34m=\u001b[0m \u001b[0mOSMM\u001b[0m\u001b[0;34m(\u001b[0m\u001b[0mf_torch\u001b[0m\u001b[0;34m=\u001b[0m\u001b[0mmy_objf_torch\u001b[0m\u001b[0;34m,\u001b[0m \u001b[0mg_cvxpy\u001b[0m\u001b[0;34m=\u001b[0m\u001b[0mget_cvxpy_description\u001b[0m\u001b[0;34m)\u001b[0m\u001b[0;34m\u001b[0m\u001b[0;34m\u001b[0m\u001b[0m\n\u001b[0m\u001b[1;32m      2\u001b[0m \u001b[0mosmm_prob\u001b[0m\u001b[0;34m.\u001b[0m\u001b[0msolve\u001b[0m\u001b[0;34m(\u001b[0m\u001b[0mW\u001b[0m\u001b[0;34m,\u001b[0m \u001b[0minit_val\u001b[0m\u001b[0;34m,\u001b[0m \u001b[0msolver\u001b[0m\u001b[0;34m=\u001b[0m\u001b[0;34m\"MOSEK\"\u001b[0m\u001b[0;34m,\u001b[0m \u001b[0meps_gap_abs\u001b[0m\u001b[0;34m=\u001b[0m\u001b[0;36m1e-4\u001b[0m\u001b[0;34m)\u001b[0m\u001b[0;31m#, W_validate=W_validation, stop_early=False)\u001b[0m\u001b[0;34m\u001b[0m\u001b[0;34m\u001b[0m\u001b[0m\n",
      "\u001b[0;32m~/anaconda3/lib/python3.7/site-packages/osmm-0.0.1-py3.7.egg/osmm/osmm.py\u001b[0m in \u001b[0;36m__init__\u001b[0;34m(self, f_torch, g_cvxpy)\u001b[0m\n\u001b[1;32m     25\u001b[0m                 \u001b[0mself\u001b[0m\u001b[0;34m.\u001b[0m\u001b[0mg_additional_vars\u001b[0m\u001b[0;34m.\u001b[0m\u001b[0mappend\u001b[0m\u001b[0;34m(\u001b[0m\u001b[0mvar\u001b[0m\u001b[0;34m)\u001b[0m\u001b[0;34m\u001b[0m\u001b[0;34m\u001b[0m\u001b[0m\n\u001b[1;32m     26\u001b[0m         \u001b[0;32mfor\u001b[0m \u001b[0mconstr\u001b[0m \u001b[0;32min\u001b[0m \u001b[0mself\u001b[0m\u001b[0;34m.\u001b[0m\u001b[0mg_constrs\u001b[0m\u001b[0;34m:\u001b[0m\u001b[0;34m\u001b[0m\u001b[0;34m\u001b[0m\u001b[0m\n\u001b[0;32m---> 27\u001b[0;31m             \u001b[0;32mfor\u001b[0m \u001b[0mvar\u001b[0m \u001b[0;32min\u001b[0m \u001b[0mconstr\u001b[0m\u001b[0;34m.\u001b[0m\u001b[0mvariables\u001b[0m\u001b[0;34m:\u001b[0m\u001b[0;34m\u001b[0m\u001b[0;34m\u001b[0m\u001b[0m\n\u001b[0m\u001b[1;32m     28\u001b[0m                 \u001b[0;32mif\u001b[0m \u001b[0mvar\u001b[0m \u001b[0;32mis\u001b[0m \u001b[0;32mnot\u001b[0m \u001b[0mself\u001b[0m\u001b[0;34m.\u001b[0m\u001b[0mx_var_cvxpy\u001b[0m \u001b[0;32mand\u001b[0m \u001b[0mvar\u001b[0m \u001b[0;32mnot\u001b[0m \u001b[0;32min\u001b[0m \u001b[0mself\u001b[0m\u001b[0;34m.\u001b[0m\u001b[0mg_additional_vars\u001b[0m\u001b[0;34m:\u001b[0m\u001b[0;34m\u001b[0m\u001b[0;34m\u001b[0m\u001b[0m\n\u001b[1;32m     29\u001b[0m                     \u001b[0mself\u001b[0m\u001b[0;34m.\u001b[0m\u001b[0mg_additional_vars\u001b[0m\u001b[0;34m.\u001b[0m\u001b[0mappend\u001b[0m\u001b[0;34m(\u001b[0m\u001b[0mvar\u001b[0m\u001b[0;34m)\u001b[0m\u001b[0;34m\u001b[0m\u001b[0;34m\u001b[0m\u001b[0m\n",
      "\u001b[0;31mTypeError\u001b[0m: 'method' object is not iterable"
     ]
    }
   ],
   "source": [
    "osmm_prob = OSMM(f_torch=my_objf_torch, g_cvxpy=get_cvxpy_description)\n",
    "osmm_prob.solve(W, init_val, solver=\"MOSEK\", eps_gap_abs=1e-4)#, W_validate=W_validation, stop_early=False)"
   ]
  },
  {
   "cell_type": "markdown",
   "metadata": {},
   "source": [
    "## get results"
   ]
  },
  {
   "cell_type": "code",
   "execution_count": null,
   "metadata": {},
   "outputs": [],
   "source": [
    "x_soln = osmm_prob.method_results[\"soln\"]\n",
    "Xs = osmm_prob.method_results[\"var_iters\"]"
   ]
  },
  {
   "cell_type": "code",
   "execution_count": null,
   "metadata": {},
   "outputs": [],
   "source": [
    "max_num_rounds = len(osmm_prob.method_results[\"objf_iters\"])\n",
    "iters_taken = osmm_prob.method_results[\"iters_taken\"]"
   ]
  },
  {
   "cell_type": "code",
   "execution_count": null,
   "metadata": {},
   "outputs": [],
   "source": [
    "objfs = np.array(osmm_prob.method_results[\"objf_iters\"])\n",
    "for i in range(1, iters_taken):\n",
    "    objfs[i] = np.min(osmm_prob.method_results[\"objf_iters\"][0:i + 1])\n",
    "objfs[iters_taken::] = objfs[iters_taken]\n",
    "objf_min = np.min(objfs[0:iters_taken + 1])"
   ]
  },
  {
   "cell_type": "code",
   "execution_count": null,
   "metadata": {},
   "outputs": [],
   "source": [
    "print(objfs[0:3])"
   ]
  },
  {
   "cell_type": "code",
   "execution_count": null,
   "metadata": {},
   "outputs": [],
   "source": [
    "objfs_val = np.array(osmm_prob.method_results[\"objf_validate_iters\"])\n",
    "objfs_val[iters_taken::] = objfs_val[iters_taken]"
   ]
  },
  {
   "cell_type": "code",
   "execution_count": null,
   "metadata": {},
   "outputs": [],
   "source": [
    "lower_bounds = np.array(osmm_prob.method_results[\"lower_bound_iters\"])\n",
    "lower_bounds[iters_taken::] = lower_bounds[iters_taken]"
   ]
  },
  {
   "cell_type": "code",
   "execution_count": null,
   "metadata": {},
   "outputs": [],
   "source": [
    "opt_res_norms = np.array(osmm_prob.method_results[\"opt_res_iters\"])\n",
    "start_idx = 1\n",
    "for i in range(start_idx, iters_taken):\n",
    "    opt_res_norms[i] = np.min(osmm_prob.method_results[\"opt_res_iters\"][start_idx:i + 1])\n",
    "opt_res_norms[iters_taken::] = opt_res_norms[iters_taken]"
   ]
  },
  {
   "cell_type": "markdown",
   "metadata": {},
   "source": [
    "## plots"
   ]
  },
  {
   "cell_type": "code",
   "execution_count": null,
   "metadata": {},
   "outputs": [],
   "source": [
    "if dataset == \"exp_density\":\n",
    "    my_plot_exp_density_one_result(Xs, objfs, iters_taken)\n",
    "else:\n",
    "    my_plot_one_result(W, x_soln, is_save_fig=False, figname=\"cvar_pnt9_result.pdf\")"
   ]
  },
  {
   "cell_type": "code",
   "execution_count": null,
   "metadata": {},
   "outputs": [],
   "source": [
    "linewidth = 2\n",
    "fontsize = 16\n",
    "font = {'family': 'serif',\n",
    "        'size': fontsize,\n",
    "        }"
   ]
  },
  {
   "cell_type": "code",
   "execution_count": null,
   "metadata": {},
   "outputs": [],
   "source": [
    "fig = plt.figure(tight_layout=False, figsize=(16, 5))\n",
    "gs = gridspec.GridSpec(1, 2)\n",
    "plt.rcParams.update({'font.size': fontsize})\n",
    "\n",
    "plot1 = fig.add_subplot(gs[0, 0])\n",
    "rounds = range(0, max_num_rounds)\n",
    "if osmm_prob.method_results[\"iters_taken\"] < max_num_rounds:\n",
    "    plot1.axvline(osmm_prob.method_results[\"iters_taken\"], color='gray', linestyle='dashed', linewidth=linewidth)\n",
    "##objf\n",
    "plot1.plot(np.array(rounds), objfs, linewidth=linewidth, label=\"Objective value\")\n",
    "##objf_validation\n",
    "plot1.plot(np.array(rounds), objfs_val, ':', linewidth=linewidth, label=\"Validation objective value\")\n",
    "##l_k\n",
    "plot1.plot(np.array(rounds), lower_bounds, '--', linewidth=linewidth, label=\"Lower bound\")\n",
    "\n",
    "plot1.set_xlabel(\"Iterations\", fontdict=font)\n",
    "plot1.legend(prop=font)\n",
    "\n",
    "#=========================================================================================================\n",
    "plot2 = fig.add_subplot(gs[0, 1])\n",
    "##subopt\n",
    "plot2.plot(np.array(rounds), objfs - objf_min, linewidth=linewidth, label=\"Suboptimality\")\n",
    "## gaps\n",
    "gaps = objfs - lower_bounds\n",
    "plot2.plot(rounds, gaps, linewidth=linewidth, label=\"Estimated suboptimality\")\n",
    "## residual norm\n",
    "plot2.plot(rounds[start_idx::], opt_res_norms[start_idx::] / n, label=\"Residual norm\", color='#2ca02c')\n",
    "\n",
    "plot2.set_xlabel(\"Iterations\", fontdict=font)\n",
    "plot2.set_yscale(\"log\")\n",
    "plot2.legend(prop=font)\n",
    "\n",
    "plot_iter_lim = iters_taken + 5\n",
    "ylim = None\n",
    "if plot_iter_lim is not None:\n",
    "    plot1.set_xlim([0, plot_iter_lim])\n",
    "    plot2.set_xlim([0, plot_iter_lim])\n",
    "if ylim is not None:\n",
    "    plot2.set_ylim([ylim[0], ylim[1]])"
   ]
  },
  {
   "cell_type": "code",
   "execution_count": null,
   "metadata": {},
   "outputs": [],
   "source": [
    "print(osmm_prob.method_results[\"soln_additional_vars\"])"
   ]
  },
  {
   "cell_type": "code",
   "execution_count": null,
   "metadata": {},
   "outputs": [],
   "source": []
  },
  {
   "cell_type": "code",
   "execution_count": null,
   "metadata": {},
   "outputs": [],
   "source": []
  }
 ],
 "metadata": {
  "kernelspec": {
   "display_name": "Python 3",
   "language": "python",
   "name": "python3"
  },
  "language_info": {
   "codemirror_mode": {
    "name": "ipython",
    "version": 3
   },
   "file_extension": ".py",
   "mimetype": "text/x-python",
   "name": "python",
   "nbconvert_exporter": "python",
   "pygments_lexer": "ipython3",
   "version": "3.7.6"
  }
 },
 "nbformat": 4,
 "nbformat_minor": 4
}
