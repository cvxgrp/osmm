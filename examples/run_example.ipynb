{
 "cells": [
  {
   "cell_type": "markdown",
   "metadata": {},
   "source": [
    "## dataset functions"
   ]
  },
  {
   "cell_type": "code",
   "execution_count": 1,
   "metadata": {},
   "outputs": [
    {
     "name": "stdout",
     "output_type": "stream",
     "text": [
      "device = cpu\n",
      "1.1.12\n"
     ]
    }
   ],
   "source": [
    "# dataset = \"exp_density\"\n",
    "# from exp_density_polynomial import *\n",
    "dataset = \"cvar\"\n",
    "from cvar import *\n",
    "# dataset = \"energy\"\n",
    "# from energy import *\n",
    "# dataset = \"kelly\"\n",
    "# from kelly import *\n",
    "# dataset = \"news_vendor\"\n",
    "# from news_vendor import *\n",
    "\n",
    "print(cp.__version__)"
   ]
  },
  {
   "cell_type": "markdown",
   "metadata": {},
   "source": [
    "## osmm"
   ]
  },
  {
   "cell_type": "code",
   "execution_count": 2,
   "metadata": {},
   "outputs": [],
   "source": [
    "from osmm import OSMM\n",
    "osmm_prob = OSMM(f_torch=my_f_torch, g_cvxpy=my_g_cvxpy)"
   ]
  },
  {
   "cell_type": "markdown",
   "metadata": {},
   "source": [
    "## generate random data"
   ]
  },
  {
   "cell_type": "code",
   "execution_count": 3,
   "metadata": {},
   "outputs": [],
   "source": [
    "W = generate_random_data()\n",
    "W_validation = generate_random_data()\n",
    "init_val = get_initial_val()"
   ]
  },
  {
   "cell_type": "markdown",
   "metadata": {},
   "source": [
    "## solve"
   ]
  },
  {
   "cell_type": "code",
   "execution_count": 4,
   "metadata": {},
   "outputs": [
    {
     "name": "stdout",
     "output_type": "stream",
     "text": [
      "iter = 10, objf = -1.347e+00, lower bound = -1.354e+00, RMS residual = 7.232e-02, sampling acc = 3.241e-03, ||G||_F = 1.045e+02\n",
      "iter = 20, objf = -1.348e+00, lower bound = -1.348e+00, RMS residual = 5.474e-03, sampling acc = 1.930e-03, ||G||_F = 3.278e+02\n",
      "      Terminated. Num iterations = 20, objf = -1.348e+00, lower bound = -1.348e+00, RMS residual = 5.474e-03, sampling acc = 1.930e-03.\n",
      "      Time elapsed (secs): 55.816046.\n",
      "\n"
     ]
    }
   ],
   "source": [
    "result = osmm_prob.solve(W, init_val, W_validate=W_validation, \n",
    "                         solver=\"MOSEK\", verbose=True)"
   ]
  },
  {
   "cell_type": "code",
   "execution_count": 5,
   "metadata": {},
   "outputs": [
    {
     "name": "stdout",
     "output_type": "stream",
     "text": [
      "result = -1.3476430177688599\n"
     ]
    }
   ],
   "source": [
    "print(\"result =\", result)"
   ]
  },
  {
   "cell_type": "markdown",
   "metadata": {},
   "source": [
    "## get results"
   ]
  },
  {
   "cell_type": "code",
   "execution_count": 6,
   "metadata": {},
   "outputs": [],
   "source": [
    "x_soln = osmm_prob.method_results[\"soln\"]\n",
    "Xs = osmm_prob.method_results[\"var_iters\"]"
   ]
  },
  {
   "cell_type": "code",
   "execution_count": 7,
   "metadata": {},
   "outputs": [],
   "source": [
    "max_num_rounds = len(osmm_prob.method_results[\"objf_iters\"])\n",
    "iters_taken = osmm_prob.method_results[\"total_iters\"]"
   ]
  },
  {
   "cell_type": "code",
   "execution_count": 8,
   "metadata": {},
   "outputs": [],
   "source": [
    "objfs = np.array(osmm_prob.method_results[\"objf_iters\"])\n",
    "for i in range(1, iters_taken):\n",
    "    objfs[i] = np.min(osmm_prob.method_results[\"objf_iters\"][0:i + 1])\n",
    "objfs[iters_taken::] = objfs[iters_taken]\n",
    "objf_min = np.min(objfs[0:iters_taken + 1])"
   ]
  },
  {
   "cell_type": "code",
   "execution_count": 9,
   "metadata": {},
   "outputs": [],
   "source": [
    "objfs_val = np.array(osmm_prob.method_results[\"objf_validate_iters\"])\n",
    "objfs_val[iters_taken::] = objfs_val[iters_taken]"
   ]
  },
  {
   "cell_type": "code",
   "execution_count": 10,
   "metadata": {},
   "outputs": [],
   "source": [
    "lower_bounds = np.array(osmm_prob.method_results[\"lower_bound_iters\"])\n",
    "lower_bounds[iters_taken::] = lower_bounds[iters_taken]"
   ]
  },
  {
   "cell_type": "code",
   "execution_count": 11,
   "metadata": {},
   "outputs": [],
   "source": [
    "rms_res_norms = np.array(osmm_prob.method_results[\"rms_res_iters\"])\n",
    "start_idx = 1\n",
    "for i in range(start_idx, iters_taken):\n",
    "    rms_res_norms[i] = np.min(osmm_prob.method_results[\"rms_res_iters\"][start_idx:i + 1])\n",
    "rms_res_norms[iters_taken::] = rms_res_norms[iters_taken]"
   ]
  },
  {
   "cell_type": "code",
   "execution_count": 12,
   "metadata": {},
   "outputs": [
    {
     "name": "stdout",
     "output_type": "stream",
     "text": [
      "(4, 200)\n",
      "[ 0.         39.51200795  0.07241178  0.07507133  0.0755589   0.07733893\n",
      "  0.09506679  0.08551884  0.08934522  0.08703995  0.09104896  0.10282183\n",
      "  0.09898901  0.10220981  0.10636902  0.12037921  0.13275599  0.11741209\n",
      "  0.11723208  0.11648583  0.12445498]\n",
      "[ 0.          0.          0.          0.          0.          0.\n",
      "  0.          0.          0.          0.         14.10273004  0.\n",
      "  0.          0.          0.          0.          0.          0.\n",
      "  0.          0.          0.07025695]\n",
      "2.0637531757354735\n",
      "20\n"
     ]
    }
   ],
   "source": [
    "time_detail = osmm_prob.method_results[\"time_detail_iters\"]\n",
    "print(time_detail.shape)\n",
    "print(time_detail[2, 0:osmm_prob.method_results[\"total_iters\"] + 1])\n",
    "print(time_detail[3, 0:osmm_prob.method_results[\"total_iters\"] + 1])\n",
    "print(np.sum(time_detail[2, 0:osmm_prob.method_results[\"total_iters\"]]) / \n",
    "      osmm_prob.method_results[\"total_iters\"])\n",
    "print(osmm_prob.method_results[\"total_iters\"])"
   ]
  },
  {
   "cell_type": "markdown",
   "metadata": {},
   "source": [
    "## plots"
   ]
  },
  {
   "cell_type": "code",
   "execution_count": null,
   "metadata": {},
   "outputs": [],
   "source": [
    "if dataset == \"exp_density\":\n",
    "    my_plot_exp_density_one_result(Xs, objfs, iters_taken)\n",
    "else:\n",
    "    my_plot_one_result(W, x_soln, is_save_fig=False, figname=\"cvar_pnt9_result.pdf\")"
   ]
  },
  {
   "cell_type": "code",
   "execution_count": null,
   "metadata": {},
   "outputs": [],
   "source": [
    "linewidth = 2\n",
    "fontsize = 16\n",
    "font = {'family': 'serif',\n",
    "        'size': fontsize,\n",
    "        }"
   ]
  },
  {
   "cell_type": "code",
   "execution_count": null,
   "metadata": {},
   "outputs": [],
   "source": [
    "fig = plt.figure(tight_layout=False, figsize=(16, 5))\n",
    "gs = gridspec.GridSpec(1, 2)\n",
    "plt.rcParams.update({'font.size': fontsize})\n",
    "\n",
    "plot1 = fig.add_subplot(gs[0, 0])\n",
    "rounds = range(0, max_num_rounds)\n",
    "if osmm_prob.method_results[\"total_iters\"] < max_num_rounds:\n",
    "    plot1.axvline(osmm_prob.method_results[\"total_iters\"], color='gray', linestyle='dashed', linewidth=linewidth)\n",
    "##objf\n",
    "plot1.plot(np.array(rounds), objfs, linewidth=linewidth, label=\"Objective value\")\n",
    "##objf_validation\n",
    "plot1.plot(np.array(rounds), objfs_val, ':', linewidth=linewidth, label=\"Validation objective value\")\n",
    "##l_k\n",
    "plot1.plot(np.array(rounds), lower_bounds, '--', linewidth=linewidth, label=\"Lower bound\")\n",
    "\n",
    "plot1.set_xlabel(\"Iterations\", fontdict=font)\n",
    "plot1.legend(prop=font)\n",
    "\n",
    "#=========================================================================================================\n",
    "plot2 = fig.add_subplot(gs[0, 1])\n",
    "##subopt\n",
    "plot2.plot(np.array(rounds), objfs - objf_min, linewidth=linewidth, label=\"Suboptimality\")\n",
    "## gaps\n",
    "gaps = objfs - lower_bounds\n",
    "plot2.plot(rounds, gaps, linewidth=linewidth, label=\"Gap\")\n",
    "## residual norm\n",
    "plot2.plot(rounds[start_idx::], rms_res_norms[start_idx::], label=\"RMS residual\", color='#2ca02c')\n",
    "\n",
    "plot2.set_xlabel(\"Iterations\", fontdict=font)\n",
    "plot2.set_yscale(\"log\")\n",
    "plot2.legend(prop=font)\n",
    "\n",
    "plot_iter_lim = iters_taken\n",
    "ylim = None\n",
    "if plot_iter_lim is not None:\n",
    "    plot1.set_xlim([0, plot_iter_lim])\n",
    "    plot2.set_xlim([0, plot_iter_lim])\n",
    "if ylim is not None:\n",
    "    plot2.set_ylim([ylim[0], ylim[1]])"
   ]
  },
  {
   "cell_type": "code",
   "execution_count": null,
   "metadata": {},
   "outputs": [],
   "source": []
  },
  {
   "cell_type": "code",
   "execution_count": null,
   "metadata": {},
   "outputs": [],
   "source": []
  }
 ],
 "metadata": {
  "kernelspec": {
   "display_name": "Python 3",
   "language": "python",
   "name": "python3"
  },
  "language_info": {
   "codemirror_mode": {
    "name": "ipython",
    "version": 3
   },
   "file_extension": ".py",
   "mimetype": "text/x-python",
   "name": "python",
   "nbconvert_exporter": "python",
   "pygments_lexer": "ipython3",
   "version": "3.7.6"
  }
 },
 "nbformat": 4,
 "nbformat_minor": 4
}
