{
 "cells": [
  {
   "cell_type": "markdown",
   "metadata": {},
   "source": [
    "## dataset functions"
   ]
  },
  {
   "cell_type": "code",
   "execution_count": 1,
   "metadata": {},
   "outputs": [
    {
     "name": "stdout",
     "output_type": "stream",
     "text": [
      "device = cpu\n"
     ]
    }
   ],
   "source": [
    "# dataset = \"exp_density\"\n",
    "# from exp_density_polynomial import *\n",
    "# dataset = \"cvar\"\n",
    "# from cvar import *\n",
    "# dataset = \"energy\"\n",
    "# from energy import *\n",
    "dataset = \"kelly\"\n",
    "from kelly import *\n",
    "# dataset = \"news_vendor\"\n",
    "# from news_vendor import *"
   ]
  },
  {
   "cell_type": "markdown",
   "metadata": {},
   "source": [
    "## osmm"
   ]
  },
  {
   "cell_type": "code",
   "execution_count": 2,
   "metadata": {},
   "outputs": [],
   "source": [
    "from osmm import OSMM"
   ]
  },
  {
   "cell_type": "markdown",
   "metadata": {},
   "source": [
    "## generate random data"
   ]
  },
  {
   "cell_type": "code",
   "execution_count": 5,
   "metadata": {},
   "outputs": [],
   "source": [
    "W = generate_random_data()\n",
    "W_validation = generate_random_data()\n",
    "init_val = get_initial_val()"
   ]
  },
  {
   "cell_type": "markdown",
   "metadata": {},
   "source": [
    "## solve"
   ]
  },
  {
   "cell_type": "code",
   "execution_count": 6,
   "metadata": {},
   "outputs": [
    {
     "name": "stdout",
     "output_type": "stream",
     "text": [
      "Hutchinson #iters 37 rel. incr. 0.0007235651982214126 est. tr. 12726.031443196374\n",
      "lam_0 72.30699683634303 Hutchinson time cost,  0.1457679271697998\n"
     ]
    },
    {
     "name": "stderr",
     "output_type": "stream",
     "text": [
      "/Users/xinyueshen/anaconda3/lib/python3.7/site-packages/cvxpy/reductions/solvers/solving_chain.py:163: UserWarning: You are solving a parameterized problem that is not DPP. Because the problem is not DPP, subsequent solves will not be faster than the first one. For more information, see the documentation on Discplined Parametrized Programming, at\n",
      "\thttps://www.cvxpy.org/tutorial/advanced/index.html#disciplined-parametrized-programming\n",
      "  warnings.warn(dpp_error_msg)\n"
     ]
    },
    {
     "name": "stdout",
     "output_type": "stream",
     "text": [
      "iter= 10 objf_k+1= 0.044897906482219696 L_k+1= -0.2320889673352241 lam_k+1= 0.41810907824797355 tk= 1.0 mu_k+1 0.3838050304000003 ||G_k+1||_F= 61.92425624669839 tau_k+1 1.0893788385530583\n",
      "iter= 20 objf_k+1= -0.010695547796785831 L_k+1= -0.02738514247918311 lam_k+1= 0.5635755155446647 tk= 1.0 mu_k+1 0.10713185553479646 ||G_k+1||_F= 136.07804985180906 tau_k+1 5.26057831007711\n",
      "iter= 30 objf_k+1= -0.01314751897007227 L_k+1= -0.023927669376608618 lam_k+1= 0.3771875278503324 tk= 1.0 mu_k+1 0.021748228797535726 ||G_k+1||_F= 247.08025850051555 tau_k+1 17.343367653602723\n",
      "iter= 40 objf_k+1= -0.01773318089544773 L_k+1= -0.023927669376608618 lam_k+1= 0.06418105479349666 tk= 1.0 mu_k+1 0.0023351982857835354 ||G_k+1||_F= 311.03758790025717 tau_k+1 27.48419917238926\n",
      "iter= 50 objf_k+1= -0.01787402108311653 L_k+1= -0.023927669376608618 lam_k+1= 0.005103295754759013 tk= 1.0 mu_k+1 0.00034476750918209715 ||G_k+1||_F= 228.2619563476312 tau_k+1 14.802136566945425\n",
      "      Time elapsed (secs): 4.242687.\n",
      "\n"
     ]
    }
   ],
   "source": [
    "osmm_prob = OSMM(f_torch=my_objf_torch, g_cvxpy=get_cvxpy_description)\n",
    "osmm_prob.solve(W, init_val, W_validate=W_validation, solver=\"MOSEK\")"
   ]
  },
  {
   "cell_type": "markdown",
   "metadata": {},
   "source": [
    "## get results"
   ]
  },
  {
   "cell_type": "code",
   "execution_count": null,
   "metadata": {},
   "outputs": [],
   "source": [
    "x_soln = osmm_prob.method_results[\"x_soln\"]\n",
    "Xs = osmm_prob.method_results[\"X_iters\"]"
   ]
  },
  {
   "cell_type": "code",
   "execution_count": null,
   "metadata": {},
   "outputs": [],
   "source": [
    "max_num_rounds = len(osmm_prob.method_results[\"objf_iters\"])\n",
    "iters_taken = osmm_prob.method_results[\"iters_taken\"]"
   ]
  },
  {
   "cell_type": "code",
   "execution_count": null,
   "metadata": {},
   "outputs": [],
   "source": [
    "objfs = np.array(osmm_prob.method_results[\"objf_iters\"])\n",
    "for i in range(1, iters_taken):\n",
    "    objfs[i] = np.min(osmm_prob.method_results[\"objf_iters\"][0:i + 1])\n",
    "objfs[iters_taken::] = objfs[iters_taken]\n",
    "objf_min = np.min(objfs[0:iters_taken + 1])"
   ]
  },
  {
   "cell_type": "code",
   "execution_count": null,
   "metadata": {},
   "outputs": [],
   "source": [
    "objfs_val = np.array(osmm_prob.method_results[\"objf_validation_iters\"])\n",
    "objfs_val[iters_taken::] = objfs_val[iters_taken]"
   ]
  },
  {
   "cell_type": "code",
   "execution_count": null,
   "metadata": {},
   "outputs": [],
   "source": [
    "lower_bounds = np.array(osmm_prob.method_results[\"lower_bound_iters\"])\n",
    "lower_bounds[iters_taken::] = lower_bounds[iters_taken]"
   ]
  },
  {
   "cell_type": "code",
   "execution_count": null,
   "metadata": {},
   "outputs": [],
   "source": [
    "opt_res_norms = np.array(osmm_prob.method_results[\"opt_res_iters\"])\n",
    "start_idx = 1\n",
    "for i in range(start_idx, iters_taken):\n",
    "    opt_res_norms[i] = np.min(osmm_prob.method_results[\"opt_res_iters\"][start_idx:i + 1])\n",
    "opt_res_norms[iters_taken::] = opt_res_norms[iters_taken]"
   ]
  },
  {
   "cell_type": "markdown",
   "metadata": {},
   "source": [
    "## plots"
   ]
  },
  {
   "cell_type": "code",
   "execution_count": null,
   "metadata": {},
   "outputs": [],
   "source": [
    "if dataset == \"exp_density\":\n",
    "    my_plot_exp_density_one_result(Xs, objfs, iters_taken)\n",
    "else:\n",
    "    my_plot_one_result(W, x_soln, is_save_fig=False, figname=\"cvar_pnt9_result.pdf\")"
   ]
  },
  {
   "cell_type": "code",
   "execution_count": null,
   "metadata": {},
   "outputs": [],
   "source": [
    "linewidth = 2\n",
    "fontsize = 16\n",
    "font = {'family': 'serif',\n",
    "        'size': fontsize,\n",
    "        }"
   ]
  },
  {
   "cell_type": "code",
   "execution_count": null,
   "metadata": {},
   "outputs": [],
   "source": [
    "fig = plt.figure(tight_layout=False, figsize=(16, 5))\n",
    "gs = gridspec.GridSpec(1, 2)\n",
    "plt.rcParams.update({'font.size': fontsize})\n",
    "\n",
    "plot1 = fig.add_subplot(gs[0, 0])\n",
    "rounds = range(0, max_num_rounds)\n",
    "if osmm_prob.method_results[\"iters_taken\"] < max_num_rounds:\n",
    "    plot1.axvline(osmm_prob.method_results[\"iters_taken\"], color='gray', linestyle='dashed', linewidth=linewidth)\n",
    "##objf\n",
    "plot1.plot(np.array(rounds), objfs, linewidth=linewidth, label=\"Objective value\")\n",
    "##objf_validation\n",
    "plot1.plot(np.array(rounds), objfs_val, ':', linewidth=linewidth, label=\"Validation objective value\")\n",
    "##l_k\n",
    "plot1.plot(np.array(rounds), lower_bounds, '--', linewidth=linewidth, label=\"Lower bound\")\n",
    "\n",
    "plot1.set_xlabel(\"Iterations\", fontdict=font)\n",
    "plot1.legend(prop=font)\n",
    "\n",
    "#=========================================================================================================\n",
    "plot2 = fig.add_subplot(gs[0, 1])\n",
    "##subopt\n",
    "plot2.plot(np.array(rounds), objfs - objf_min, linewidth=linewidth, label=\"Suboptimality\")\n",
    "## gaps\n",
    "gaps = objfs - lower_bounds\n",
    "plot2.plot(rounds, gaps, linewidth=linewidth, label=\"Estimated suboptimality\")\n",
    "## residual norm\n",
    "plot2.plot(rounds[start_idx::], opt_res_norms[start_idx::] / n, label=\"Residual norm\", color='#2ca02c')\n",
    "\n",
    "plot2.set_xlabel(\"Iterations\", fontdict=font)\n",
    "plot2.set_yscale(\"log\")\n",
    "plot2.legend(prop=font)\n",
    "\n",
    "plot_iter_lim = iters_taken + 5\n",
    "ylim = None\n",
    "if plot_iter_lim is not None:\n",
    "    plot1.set_xlim([0, plot_iter_lim])\n",
    "    plot2.set_xlim([0, plot_iter_lim])\n",
    "if ylim is not None:\n",
    "    plot2.set_ylim([ylim[0], ylim[1]])"
   ]
  },
  {
   "cell_type": "code",
   "execution_count": null,
   "metadata": {},
   "outputs": [],
   "source": []
  }
 ],
 "metadata": {
  "kernelspec": {
   "display_name": "Python 3",
   "language": "python",
   "name": "python3"
  },
  "language_info": {
   "codemirror_mode": {
    "name": "ipython",
    "version": 3
   },
   "file_extension": ".py",
   "mimetype": "text/x-python",
   "name": "python",
   "nbconvert_exporter": "python",
   "pygments_lexer": "ipython3",
   "version": "3.7.6"
  }
 },
 "nbformat": 4,
 "nbformat_minor": 4
}
