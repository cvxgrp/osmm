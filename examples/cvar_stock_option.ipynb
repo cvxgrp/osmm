{
 "cells": [
  {
   "cell_type": "code",
   "execution_count": 1,
   "metadata": {},
   "outputs": [],
   "source": [
    "# import os\n",
    "# os.environ['CUDA_VISIBLE_DEVICES']='1'"
   ]
  },
  {
   "cell_type": "code",
   "execution_count": 2,
   "metadata": {},
   "outputs": [],
   "source": [
    "import torch\n",
    "import numpy as np\n",
    "import cvxpy as cp\n",
    "from scipy.stats import norm\n",
    "from osmm import OSMM\n",
    "\n",
    "import matplotlib.pyplot as plt\n",
    "import matplotlib.gridspec as gridspec"
   ]
  },
  {
   "cell_type": "code",
   "execution_count": 3,
   "metadata": {},
   "outputs": [
    {
     "name": "stdout",
     "output_type": "stream",
     "text": [
      "device = cpu\n"
     ]
    }
   ],
   "source": [
    "CPU = torch.device('cpu')\n",
    "if torch.cuda.is_available():\n",
    "    torch.set_default_tensor_type(torch.cuda.FloatTensor)\n",
    "    device = torch.device('cuda')\n",
    "else:\n",
    "    torch.set_default_tensor_type(torch.FloatTensor)\n",
    "    device = CPU\n",
    "print(\"device =\", device)"
   ]
  },
  {
   "cell_type": "markdown",
   "metadata": {},
   "source": [
    "## generate data"
   ]
  },
  {
   "cell_type": "code",
   "execution_count": 4,
   "metadata": {},
   "outputs": [],
   "source": [
    "eta = 0.8\n",
    "N = 10000\n",
    "m = 100\n",
    "n = m * 3 + 1\n",
    "n_w = m * 3"
   ]
  },
  {
   "cell_type": "code",
   "execution_count": 5,
   "metadata": {},
   "outputs": [],
   "source": [
    "np.random.seed(0)\n",
    "sigma = 1.0 / np.sqrt(2)\n",
    "NFACT = 5\n",
    "factors_stock = np.random.randn(m, NFACT)\n",
    "Sigma = (factors_stock.dot(factors_stock.T) / NFACT + np.eye(m)) * (sigma ** 2)\n",
    "mu = 0.03 * np.sqrt(np.diag(Sigma)) - np.diag(Sigma) / 2\n",
    "\n",
    "call_strike_prices = np.exp(norm.ppf(0.8) * np.sqrt(np.diag(Sigma)) + mu)\n",
    "put_strike_prices = np.exp(norm.ppf(0.2) * np.sqrt(np.diag(Sigma)) + mu)\n",
    "\n",
    "r = np.zeros(m)\n",
    "d1_call = np.log(1.0 / call_strike_prices) / np.sqrt(np.diag(Sigma)) + 0.5 * np.sqrt(np.diag(Sigma)) + r / np.sqrt(\n",
    "    np.diag(Sigma))\n",
    "d2_call = np.log(1.0 / call_strike_prices) / np.sqrt(np.diag(Sigma)) - 0.5 * np.sqrt(np.diag(Sigma)) + r / np.sqrt(\n",
    "    np.diag(Sigma))\n",
    "call_option_prices = norm.cdf(d1_call) - call_strike_prices * norm.cdf(d2_call) * np.exp(-r)\n",
    "\n",
    "d1_put = np.log(1.0 / put_strike_prices) / np.sqrt(np.diag(Sigma)) + 0.5 * np.sqrt(np.diag(Sigma)) + r / np.sqrt(\n",
    "    np.diag(Sigma))\n",
    "d2_put = np.log(1.0 / put_strike_prices) / np.sqrt(np.diag(Sigma)) - 0.5 * np.sqrt(np.diag(Sigma)) + r / np.sqrt(\n",
    "    np.diag(Sigma))\n",
    "put_option_prices = put_strike_prices * norm.cdf(-d2_put) * np.exp(-r) - norm.cdf(-d1_put)"
   ]
  },
  {
   "cell_type": "code",
   "execution_count": 6,
   "metadata": {},
   "outputs": [],
   "source": [
    "def generate_random_data():\n",
    "    total_return = np.zeros((N, n_w))\n",
    "    stock_price = np.exp(np.random.multivariate_normal(mu, Sigma, size=int(N))) #N by m\n",
    "    total_return[:, 0:m] = stock_price\n",
    "    stock_price_minus_call_strike_price = (stock_price.T - call_strike_prices.reshape((m, 1))).T\n",
    "    total_return[:, m:2 * m] = np.maximum(0, stock_price_minus_call_strike_price) / call_option_prices\n",
    "    put_strike_price_minus_stock_price = (put_strike_prices.reshape((m, 1)) - stock_price.T).T\n",
    "    total_return[:, 2 * m:3 * m] = np.maximum(0, put_strike_price_minus_stock_price) / put_option_prices\n",
    "    return total_return.T"
   ]
  },
  {
   "cell_type": "code",
   "execution_count": 7,
   "metadata": {},
   "outputs": [],
   "source": [
    "W = generate_random_data()\n",
    "W_validation = generate_random_data()"
   ]
  },
  {
   "cell_type": "markdown",
   "metadata": {},
   "source": [
    "## define g and f"
   ]
  },
  {
   "cell_type": "code",
   "execution_count": 8,
   "metadata": {},
   "outputs": [],
   "source": [
    "b_var = cp.Variable(n)\n",
    "constr = [cp.sum(b_var[1:n]) == 1, b_var[1:n] >= -0.1, cp.sum(cp.abs(b_var[1:n])) <= 1.6]"
   ]
  },
  {
   "cell_type": "code",
   "execution_count": 9,
   "metadata": {},
   "outputs": [],
   "source": [
    "def my_f_torch(b_torch, W_torch):\n",
    "    tmp = torch.matmul(W_torch.T, b_torch[1:n])\n",
    "    objf = 1.0 / (1.0 - eta) * torch.mean(torch.relu(-tmp + b_torch[0])) - b_torch[0]\n",
    "    return objf"
   ]
  },
  {
   "cell_type": "markdown",
   "metadata": {},
   "source": [
    "## consturct osmm object"
   ]
  },
  {
   "cell_type": "code",
   "execution_count": 12,
   "metadata": {},
   "outputs": [],
   "source": [
    "osmm_prob = OSMM()\n",
    "osmm_prob.f_torch.function = my_f_torch\n",
    "osmm_prob.f_torch.W_torch = torch.tensor(W, dtype=torch.float)\n",
    "osmm_prob.f_torch.w_validate_torch = torch.tensor(W_validation, dtype=torch.float)\n",
    "osmm_prob.g_cvxpy.variable = b_var\n",
    "osmm_prob.g_cvxpy.objective = 0\n",
    "osmm_prob.g_cvxpy.constraints = constr"
   ]
  },
  {
   "cell_type": "markdown",
   "metadata": {},
   "source": [
    "## solve"
   ]
  },
  {
   "cell_type": "code",
   "execution_count": 13,
   "metadata": {},
   "outputs": [
    {
     "name": "stdout",
     "output_type": "stream",
     "text": [
      "iter = 10, objf = -8.622e-01, lower bound = -1.013e+00, RMS residual = 3.562e-01, ||G||_F = 6.743e+01\n",
      "iter = 20, objf = -9.230e-01, lower bound = -1.004e+00, RMS residual = 4.961e-01, ||G||_F = 1.729e+02\n",
      "iter = 30, objf = -9.333e-01, lower bound = -1.004e+00, RMS residual = 2.363e-01, ||G||_F = 1.190e+02\n",
      "iter = 40, objf = -9.437e-01, lower bound = -1.004e+00, RMS residual = 6.884e-02, ||G||_F = 1.286e+02\n",
      "iter = 50, objf = -9.457e-01, lower bound = -9.896e-01, RMS residual = 6.059e-02, ||G||_F = 1.393e+02\n",
      "iter = 60, objf = -9.461e-01, lower bound = -9.654e-01, RMS residual = 2.472e-02, ||G||_F = 1.639e+02\n",
      "iter = 70, objf = -9.464e-01, lower bound = -9.592e-01, RMS residual = 3.391e-02, ||G||_F = 2.093e+02\n",
      "iter = 80, objf = -9.464e-01, lower bound = -9.592e-01, RMS residual = 2.308e-02, ||G||_F = 2.320e+02\n",
      "iter = 90, objf = -9.465e-01, lower bound = -9.550e-01, RMS residual = 2.026e-02, ||G||_F = 2.844e+02\n",
      "iter = 100, objf = -9.465e-01, lower bound = -9.550e-01, RMS residual = 1.223e-02, ||G||_F = 3.194e+02\n",
      "iter = 110, objf = -9.465e-01, lower bound = -9.550e-01, RMS residual = 1.425e-02, ||G||_F = 4.034e+02\n",
      "iter = 120, objf = -9.465e-01, lower bound = -9.550e-01, RMS residual = 1.402e-02, ||G||_F = 4.586e+02\n",
      "iter = 130, objf = -9.465e-01, lower bound = -9.550e-01, RMS residual = 1.242e-02, ||G||_F = 5.705e+02\n",
      "iter = 140, objf = -9.465e-01, lower bound = -9.550e-01, RMS residual = 8.442e-03, ||G||_F = 7.400e+02\n",
      "iter = 150, objf = -9.465e-01, lower bound = -9.537e-01, RMS residual = 1.205e-02, ||G||_F = 8.155e+02\n",
      "iter = 160, objf = -9.465e-01, lower bound = -9.537e-01, RMS residual = 1.124e-02, ||G||_F = 8.186e+02\n",
      "iter = 170, objf = -9.465e-01, lower bound = -9.535e-01, RMS residual = 9.337e-03, ||G||_F = 8.545e+02\n",
      "iter = 180, objf = -9.465e-01, lower bound = -9.535e-01, RMS residual = 1.094e-02, ||G||_F = 9.800e+02\n",
      "iter = 190, objf = -9.465e-01, lower bound = -9.535e-01, RMS residual = 1.028e-02, ||G||_F = 1.276e+03\n",
      "      Terminated. Num iterations = 199, objf = -9.465e-01, lower bound = -9.535e-01, RMS residual = 1.033e-02.\n",
      "      Time elapsed (secs): 13.086597.\n",
      "\n"
     ]
    },
    {
     "data": {
      "text/plain": [
       "-0.9465497732162476"
      ]
     },
     "execution_count": 13,
     "metadata": {},
     "output_type": "execute_result"
    }
   ],
   "source": [
    "init_val = np.ones(n) / (n - 1)\n",
    "osmm_prob.solve(init_val, verbose=True, \n",
    "#                 use_termination_criteria=False\n",
    "               )"
   ]
  },
  {
   "cell_type": "markdown",
   "metadata": {},
   "source": [
    "## plot result"
   ]
  },
  {
   "cell_type": "code",
   "execution_count": 14,
   "metadata": {},
   "outputs": [],
   "source": [
    "total_iters = osmm_prob.method_results[\"total_iters\"]\n",
    "iters = np.array([i for i in range(0, total_iters + 1)])"
   ]
  },
  {
   "cell_type": "code",
   "execution_count": 15,
   "metadata": {},
   "outputs": [
    {
     "data": {
      "text/plain": [
       "<matplotlib.legend.Legend at 0x7fed7e761a10>"
      ]
     },
     "execution_count": 15,
     "metadata": {},
     "output_type": "execute_result"
    },
    {
     "data": {
      "image/png": "[encoded data removed]",
      "text/plain": [
       "<Figure size 1080x360 with 2 Axes>"
      ]
     },
     "metadata": {
      "needs_background": "light"
     },
     "output_type": "display_data"
    }
   ],
   "source": [
    "fig = plt.figure(tight_layout=False, figsize=(15, 5))\n",
    "gs = gridspec.GridSpec(1, 2)\n",
    "\n",
    "plot1 = fig.add_subplot(gs[0, 0])\n",
    "plot1.plot(iters, osmm_prob.method_results[\"objf_iters\"][0:total_iters + 1], label=\"Objective value\")\n",
    "lower_bound_idxs = [i for i in range(0, total_iters + 1, 10)] + [total_iters]\n",
    "plot1.plot(iters[lower_bound_idxs], osmm_prob.method_results[\"lower_bound_iters\"][lower_bound_idxs], \n",
    "           '--*', label=\"Lower bound\")\n",
    "\n",
    "plot1.set_xlabel(\"Iterations\")\n",
    "plot1.legend()\n",
    "\n",
    "#=========================================================================================================\n",
    "plot2 = fig.add_subplot(gs[0, 1])\n",
    "start_idx = 2\n",
    "rms_res_running_min = np.array(osmm_prob.method_results[\"rms_res_iters\"][0:total_iters + 1])\n",
    "for i in range(start_idx, total_iters + 1):\n",
    "    rms_res_running_min[i] = np.min(osmm_prob.method_results[\"rms_res_iters\"][start_idx:i + 1])\n",
    "\n",
    "plot2.plot(iters[start_idx::], rms_res_running_min[start_idx::], label=\"RMS Residual\", color='#2ca02c')\n",
    "\n",
    "plot2.set_xlabel(\"Iterations\")\n",
    "plot2.set_yscale(\"log\")\n",
    "plot2.legend()"
   ]
  },
  {
   "cell_type": "code",
   "execution_count": 16,
   "metadata": {},
   "outputs": [
    {
     "name": "stdout",
     "output_type": "stream",
     "text": [
      "mean 1.0158230975343485\n"
     ]
    },
    {
     "data": {
      "image/png": "[encoded data removed]",
      "text/plain": [
       "<Figure size 360x360 with 2 Axes>"
      ]
     },
     "metadata": {
      "needs_background": "light"
     },
     "output_type": "display_data"
    }
   ],
   "source": [
    "linewidth = 2\n",
    "fontsize = 10\n",
    "\n",
    "fig = plt.figure(tight_layout=True, figsize=(5, 5))\n",
    "gs = gridspec.GridSpec(2, 1)\n",
    "\n",
    "a = fig.add_subplot(gs[0, 0])\n",
    "a.stem([i for i in range(1, n)], osmm_prob.method_results[\"soln\"][1:n], markerfmt=' ', label=\"Long\", linefmt=\"blue\")\n",
    "a.stem([i for i in range(1, n)], -osmm_prob.method_results[\"soln\"][1:n], markerfmt=' ', label=\"Short\", linefmt=\"green\")\n",
    "a.set_ylabel(\"Investment ($\\eta$={:.2f})\".format(eta), fontsize=fontsize)\n",
    "a.set_xlabel(\"Asset\", fontsize=fontsize)\n",
    "a.set_yscale(\"log\")\n",
    "a.set_ylim([1e-4, 1e-1])\n",
    "a.grid()\n",
    "plt.legend(fontsize=fontsize)\n",
    "\n",
    "###################################################################\n",
    "payoff_outcomes = W.T.dot(osmm_prob.method_results[\"soln\"][1:n])\n",
    "c = fig.add_subplot(gs[1, 0])\n",
    "counts, bin_edges = np.histogram(payoff_outcomes, bins=200, density=True)\n",
    "cdf = np.cumsum(counts)\n",
    "c.plot(bin_edges[1:], cdf / cdf[-1])\n",
    "c.set_ylabel(r\"Empirical CDF ($\\eta$={:.2f})\".format(eta), fontsize=fontsize)\n",
    "c.set_xlabel(\"Total return\", fontsize=fontsize)\n",
    "c.axvline(payoff_outcomes.mean(), color='k', linestyle='dashed', linewidth=linewidth)\n",
    "c.text(payoff_outcomes.mean() * 1.01, 0.5, 'Mean: {:.3f}'.format(payoff_outcomes.mean()), fontsize=fontsize)\n",
    "print(\"mean\", payoff_outcomes.mean())\n",
    "c.grid()"
   ]
  },
  {
   "cell_type": "code",
   "execution_count": 17,
   "metadata": {},
   "outputs": [
    {
     "name": "stdout",
     "output_type": "stream",
     "text": [
      "loss probability (per month) = 0.3873\n",
      "mean (per month) = 1.0158230975343485\n",
      "std (per month) = 0.05072511238283324\n"
     ]
    }
   ],
   "source": [
    "print(\"loss probability (per month) =\", np.sum(W.T.dot(osmm_prob.method_results[\"soln\"][1::]) < 1) / N)\n",
    "print(\"mean (per month) =\", np.mean(W.T.dot(osmm_prob.method_results[\"soln\"][1::])))\n",
    "print(\"std (per month) =\", np.std(W.T.dot(osmm_prob.method_results[\"soln\"][1::])))"
   ]
  },
  {
   "cell_type": "code",
   "execution_count": 18,
   "metadata": {},
   "outputs": [
    {
     "name": "stdout",
     "output_type": "stream",
     "text": [
      "1 1.0139200671833544 0.05154963058296496\n",
      "2 1.013143886622716 0.05174599060107304\n",
      "3 1.0134990175776621 0.05192912629520751\n",
      "4 1.0141846679717121 0.0525771107428918\n",
      "5 1.01357147813585 0.05164554434100597\n",
      "6 1.0140308773059437 0.051743365259137836\n",
      "7 1.0137951943667243 0.05192888969579488\n",
      "8 1.013950578290852 0.05143496201676832\n",
      "9 1.0131867418238574 0.05180362038256896\n",
      "10 1.0137176342247354 0.051665698468277545\n",
      "11 1.0123480626637726 0.05153450597787943\n"
     ]
    }
   ],
   "source": [
    "year_returns = np.zeros((12, N))\n",
    "year_returns[0, :] = W.T.dot(osmm_prob.method_results[\"soln\"][1::])\n",
    "for i in range(1, 12):\n",
    "    W_new_month = generate_random_data()\n",
    "    new_returns = W_new_month.T.dot(osmm_prob.method_results[\"soln\"][1::])\n",
    "    print(i, np.mean(new_returns), np.std(new_returns))\n",
    "    year_returns[i, :] = new_returns"
   ]
  },
  {
   "cell_type": "code",
   "execution_count": 19,
   "metadata": {},
   "outputs": [
    {
     "name": "stdout",
     "output_type": "stream",
     "text": [
      "mean (per year) = 1.178141577998281\n",
      "std (per year) = 0.20858712722660286\n",
      "loss probability (per year) = 0.2\n"
     ]
    }
   ],
   "source": [
    "acc_year_returns = np.exp(np.sum(np.log(year_returns), axis=0))\n",
    "print(\"mean (per year) =\", np.mean(acc_year_returns))\n",
    "print(\"std (per year) =\", np.std(acc_year_returns))\n",
    "print(\"loss probability (per year) =\", np.sum(acc_year_returns <= 1) / N)"
   ]
  }
 ],
 "metadata": {
  "kernelspec": {
   "display_name": "Python 3",
   "language": "python",
   "name": "python3"
  },
  "language_info": {
   "codemirror_mode": {
    "name": "ipython",
    "version": 3
   },
   "file_extension": ".py",
   "mimetype": "text/x-python",
   "name": "python",
   "nbconvert_exporter": "python",
   "pygments_lexer": "ipython3",
   "version": "3.7.6"
  }
 },
 "nbformat": 4,
 "nbformat_minor": 4
}
